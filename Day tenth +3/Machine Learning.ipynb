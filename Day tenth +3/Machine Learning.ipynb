{
 "cells": [
  {
   "cell_type": "code",
   "execution_count": 7,
   "id": "bd3f3ee6",
   "metadata": {},
   "outputs": [],
   "source": [
    "import cv2"
   ]
  },
  {
   "cell_type": "code",
   "execution_count": 23,
   "id": "716ae39b",
   "metadata": {},
   "outputs": [],
   "source": [
    "cap= cv2.VideoCapture(0)\n",
    "#we can connect hrogh mobile cam by pasting mobile url"
   ]
  },
  {
   "cell_type": "code",
   "execution_count": 24,
   "id": "63cc4817",
   "metadata": {},
   "outputs": [],
   "source": [
    "status , photo = cap.read()"
   ]
  },
  {
   "cell_type": "code",
   "execution_count": 10,
   "id": "87d1fabb",
   "metadata": {},
   "outputs": [
    {
     "data": {
      "text/plain": [
       "True"
      ]
     },
     "execution_count": 10,
     "metadata": {},
     "output_type": "execute_result"
    }
   ],
   "source": [
    "status"
   ]
  },
  {
   "cell_type": "code",
   "execution_count": 5,
   "id": "3a574053",
   "metadata": {},
   "outputs": [],
   "source": [
    "#live streeaming:\n",
    "\n",
    "while True:\n",
    "    status, pic = cap.read()\n",
    "    cv2.imshow(\"my pic\", pic)\n",
    "    if cv2.waitKey(1) ==13:\n",
    "        break\n",
    "\n",
    "cv2.destroyAllWindows()"
   ]
  },
  {
   "cell_type": "code",
   "execution_count": 8,
   "id": "737fe100",
   "metadata": {},
   "outputs": [
    {
     "data": {
      "text/plain": [
       "3"
      ]
     },
     "execution_count": 8,
     "metadata": {},
     "output_type": "execute_result"
    }
   ],
   "source": [
    "photo.ndim"
   ]
  },
  {
   "cell_type": "code",
   "execution_count": 24,
   "id": "0d369985",
   "metadata": {},
   "outputs": [],
   "source": [
    "import numpy as np"
   ]
  },
  {
   "cell_type": "code",
   "execution_count": 21,
   "id": "dd85c14b",
   "metadata": {},
   "outputs": [
    {
     "data": {
      "text/plain": [
       "[1, 2, 3, 4]"
      ]
     },
     "execution_count": 21,
     "metadata": {},
     "output_type": "execute_result"
    }
   ],
   "source": [
    "a=[1,2,3,4]\n",
    "a"
   ]
  },
  {
   "cell_type": "code",
   "execution_count": 25,
   "id": "b9277b60",
   "metadata": {},
   "outputs": [],
   "source": [
    "aa = np.array([[1,2,3,4],\n",
    "              [3,4,5,6],\n",
    "              [4,6,7,8]])"
   ]
  },
  {
   "cell_type": "code",
   "execution_count": 27,
   "id": "538bf81c",
   "metadata": {},
   "outputs": [
    {
     "data": {
      "text/plain": [
       "(3, 4)"
      ]
     },
     "execution_count": 27,
     "metadata": {},
     "output_type": "execute_result"
    }
   ],
   "source": [
    "aa.shape"
   ]
  },
  {
   "cell_type": "code",
   "execution_count": 31,
   "id": "a4beedf9",
   "metadata": {},
   "outputs": [
    {
     "data": {
      "text/plain": [
       "array([[2, 3],\n",
       "       [4, 5],\n",
       "       [6, 7]])"
      ]
     },
     "execution_count": 31,
     "metadata": {},
     "output_type": "execute_result"
    }
   ],
   "source": [
    "aa[: ,1:3]\n",
    "#imahe ka color bhi aise hi change krene kisi bhi image me uske numpy array se ched chaad krke"
   ]
  },
  {
   "cell_type": "code",
   "execution_count": 32,
   "id": "b692b854",
   "metadata": {},
   "outputs": [
    {
     "data": {
      "text/plain": [
       "array([[[255, 255, 255],\n",
       "        [255, 255, 255],\n",
       "        [255, 255, 255],\n",
       "        ...,\n",
       "        [149, 141, 142],\n",
       "        [153, 143, 144],\n",
       "        [155, 146, 147]],\n",
       "\n",
       "       [[255, 255, 255],\n",
       "        [255, 255, 255],\n",
       "        [255, 255, 255],\n",
       "        ...,\n",
       "        [141, 136, 136],\n",
       "        [147, 140, 141],\n",
       "        [151, 144, 144]],\n",
       "\n",
       "       [[255, 255, 255],\n",
       "        [255, 255, 255],\n",
       "        [255, 255, 255],\n",
       "        ...,\n",
       "        [138, 137, 137],\n",
       "        [141, 138, 138],\n",
       "        [146, 144, 144]],\n",
       "\n",
       "       ...,\n",
       "\n",
       "       [[236, 214, 197],\n",
       "        [233, 213, 197],\n",
       "        [229, 210, 194],\n",
       "        ...,\n",
       "        [ 87,  50,  56],\n",
       "        [ 85,  47,  55],\n",
       "        [ 90,  51,  60]],\n",
       "\n",
       "       [[233, 204, 188],\n",
       "        [230, 204, 189],\n",
       "        [220, 196, 181],\n",
       "        ...,\n",
       "        [ 88,  51,  55],\n",
       "        [ 86,  49,  54],\n",
       "        [ 92,  54,  60]],\n",
       "\n",
       "       [[229, 196, 181],\n",
       "        [228, 199, 184],\n",
       "        [225, 199, 185],\n",
       "        ...,\n",
       "        [ 86,  49,  52],\n",
       "        [ 88,  51,  55],\n",
       "        [ 92,  55,  58]]], dtype=uint8)"
      ]
     },
     "execution_count": 32,
     "metadata": {},
     "output_type": "execute_result"
    }
   ],
   "source": [
    "photo"
   ]
  },
  {
   "cell_type": "code",
   "execution_count": 33,
   "id": "a480f6d8",
   "metadata": {},
   "outputs": [
    {
     "data": {
      "text/plain": [
       "array([250, 231, 248], dtype=uint8)"
      ]
     },
     "execution_count": 33,
     "metadata": {},
     "output_type": "execute_result"
    }
   ],
   "source": [
    "photo[10,30] #apnne tenth row aur 30th column ka pixel box utha liya jisme apnne uske rgb show krvaaye he"
   ]
  },
  {
   "cell_type": "code",
   "execution_count": 25,
   "id": "c64c91b0",
   "metadata": {},
   "outputs": [],
   "source": [
    "cv2.imshow(\"my pic\", photo)\n",
    "cv2.waitKey(5000)  \n",
    "cv2.destroyAllWindows()"
   ]
  },
  {
   "cell_type": "code",
   "execution_count": 12,
   "id": "693c987f",
   "metadata": {},
   "outputs": [],
   "source": [
    "photo[:,:,1:3] =0  #BGR me blue blue rhne diya bki ki aisi ki taisi krid"
   ]
  },
  {
   "cell_type": "code",
   "execution_count": 17,
   "id": "74a9c41f",
   "metadata": {},
   "outputs": [
    {
     "data": {
      "text/plain": [
       "array([[ 21,  19,  20, ..., 226, 230, 232],\n",
       "       [ 17,  15,  20, ..., 224, 230, 231],\n",
       "       [ 11,  17,  22, ..., 223, 227, 227],\n",
       "       ...,\n",
       "       [172, 178, 180, ...,  49,  49,  49],\n",
       "       [172, 177, 178, ...,  49,  49,  49],\n",
       "       [172, 177, 174, ...,  49,  49,  49]], dtype=uint8)"
      ]
     },
     "execution_count": 17,
     "metadata": {},
     "output_type": "execute_result"
    }
   ],
   "source": [
    "photo[:,:,0]+50"
   ]
  },
  {
   "cell_type": "code",
   "execution_count": 19,
   "id": "bf1fe6a5",
   "metadata": {},
   "outputs": [
    {
     "data": {
      "text/plain": [
       "array([[[227, 202, 211],\n",
       "        [225, 206, 211],\n",
       "        [226, 212, 213],\n",
       "        ...,\n",
       "        [176, 171, 176],\n",
       "        [180, 169, 176],\n",
       "        [182, 171, 179]],\n",
       "\n",
       "       [[223, 198, 207],\n",
       "        [221, 201, 207],\n",
       "        [226, 210, 212],\n",
       "        ...,\n",
       "        [174, 170, 175],\n",
       "        [180, 171, 179],\n",
       "        [181, 172, 180]],\n",
       "\n",
       "       [[217, 192, 201],\n",
       "        [223, 201, 207],\n",
       "        [228, 209, 212],\n",
       "        ...,\n",
       "        [173, 171, 177],\n",
       "        [177, 173, 180],\n",
       "        [177, 173, 180]],\n",
       "\n",
       "       ...,\n",
       "\n",
       "       [[122, 102,  70],\n",
       "        [128, 106,  73],\n",
       "        [130, 106,  71],\n",
       "        ...,\n",
       "        [255, 240, 216],\n",
       "        [255, 241, 214],\n",
       "        [255, 242, 215]],\n",
       "\n",
       "       [[122, 101,  75],\n",
       "        [127, 106,  78],\n",
       "        [128, 106,  76],\n",
       "        ...,\n",
       "        [255, 244, 219],\n",
       "        [255, 246, 219],\n",
       "        [255, 242, 215]],\n",
       "\n",
       "       [[122, 100,  77],\n",
       "        [127, 105,  80],\n",
       "        [124, 103,  76],\n",
       "        ...,\n",
       "        [255, 245, 221],\n",
       "        [255, 246, 219],\n",
       "        [255, 242, 215]]], dtype=uint8)"
      ]
     },
     "execution_count": 19,
     "metadata": {},
     "output_type": "execute_result"
    }
   ],
   "source": [
    "photo"
   ]
  },
  {
   "cell_type": "code",
   "execution_count": 20,
   "id": "6772d92c",
   "metadata": {},
   "outputs": [],
   "source": [
    "#agr me hr pixel ke rgb ko avg krke single valur bnaadu to me 3d ko 2d me convert kr skta hu \n",
    "#grayscale bn jaayega maybe:\n",
    "graypho=cv2.cvtColor(photo , cv2.COLOR_BGR2GRAY)\n",
    "#rgb image hmeha 2d image hi rhegi"
   ]
  },
  {
   "cell_type": "code",
   "execution_count": 22,
   "id": "d817be38",
   "metadata": {},
   "outputs": [],
   "source": [
    "cv2.imshow(\"my pic\", graypho)\n",
    "cv2.waitKey(5000)  \n",
    "cv2.destroyAllWindows()"
   ]
  },
  {
   "cell_type": "markdown",
   "id": "1be4eeb9",
   "metadata": {},
   "source": [
    "# Object Detection "
   ]
  },
  {
   "cell_type": "code",
   "execution_count": 26,
   "id": "ed5d9eac",
   "metadata": {},
   "outputs": [],
   "source": [
    "#object detection: for human it is very easy but for computers it is very difficult because images are munpy array for mach.\n",
    "#most widely used usecase maybe known as self learning cars it uses object detection to take decisions\n",
    "#human attribute detection can be fetched from Haarcascade\n",
    "#like eye ko detect krke uspe overlay lgaa denge to filter lgg jaayega."
   ]
  },
  {
   "cell_type": "code",
   "execution_count": null,
   "id": "757306d5",
   "metadata": {},
   "outputs": [],
   "source": []
  }
 ],
 "metadata": {
  "kernelspec": {
   "display_name": "Python 3 (ipykernel)",
   "language": "python",
   "name": "python3"
  },
  "language_info": {
   "codemirror_mode": {
    "name": "ipython",
    "version": 3
   },
   "file_extension": ".py",
   "mimetype": "text/x-python",
   "name": "python",
   "nbconvert_exporter": "python",
   "pygments_lexer": "ipython3",
   "version": "3.9.12"
  }
 },
 "nbformat": 4,
 "nbformat_minor": 5
}
