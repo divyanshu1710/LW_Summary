{
 "cells": [
  {
   "cell_type": "code",
   "execution_count": 1,
   "id": "8e72466a",
   "metadata": {},
   "outputs": [],
   "source": [
    "import numpy as np\n",
    "import cv2"
   ]
  },
  {
   "cell_type": "code",
   "execution_count": 2,
   "id": "f965990d",
   "metadata": {},
   "outputs": [],
   "source": [
    "cap= cv2.VideoCapture(0)"
   ]
  },
  {
   "cell_type": "code",
   "execution_count": 3,
   "id": "38e0c819",
   "metadata": {},
   "outputs": [],
   "source": [
    "status , pics = cap.read()"
   ]
  },
  {
   "cell_type": "code",
   "execution_count": 4,
   "id": "63e3e5c0",
   "metadata": {},
   "outputs": [
    {
     "data": {
      "text/plain": [
       "True"
      ]
     },
     "execution_count": 4,
     "metadata": {},
     "output_type": "execute_result"
    }
   ],
   "source": [
    "status"
   ]
  },
  {
   "cell_type": "code",
   "execution_count": 5,
   "id": "c4e86cad",
   "metadata": {},
   "outputs": [],
   "source": [
    "cv2.imshow(\"my pic\", pics)\n",
    "cv2.waitKey(5000)  #it is in millisecond 5000 millisecond == 5 sec\n",
    "\n",
    "cv2.destroyAllWindows()"
   ]
  },
  {
   "cell_type": "code",
   "execution_count": 6,
   "id": "a4387cbe",
   "metadata": {},
   "outputs": [],
   "source": [
    "facemodel= cv2.CascadeClassifier(\"haarcascade_frontalface_default.xml\")"
   ]
  },
  {
   "cell_type": "code",
   "execution_count": 7,
   "id": "91bded29",
   "metadata": {},
   "outputs": [
    {
     "data": {
      "text/plain": [
       "array([[409, 178, 168, 168],\n",
       "       [285, 267, 171, 171]])"
      ]
     },
     "execution_count": 7,
     "metadata": {},
     "output_type": "execute_result"
    }
   ],
   "source": [
    "facemodel.detectMultiScale(pics)"
   ]
  },
  {
   "cell_type": "code",
   "execution_count": 8,
   "id": "7b60ff9d",
   "metadata": {},
   "outputs": [
    {
     "data": {
      "text/plain": [
       "2"
      ]
     },
     "execution_count": 8,
     "metadata": {},
     "output_type": "execute_result"
    }
   ],
   "source": [
    "len(facemodel.detectMultiScale(pics))"
   ]
  },
  {
   "cell_type": "code",
   "execution_count": 9,
   "id": "4a0ebd16",
   "metadata": {},
   "outputs": [],
   "source": [
    "status , new = cap.read()"
   ]
  },
  {
   "cell_type": "code",
   "execution_count": 10,
   "id": "c88a0b5a",
   "metadata": {},
   "outputs": [],
   "source": [
    "cv2.imshow(\"my pic\", new)\n",
    "cv2.waitKey(5000)  #it is in millisecond 5000 millisecond == 5 sec\n",
    "\n",
    "cv2.destroyAllWindows()"
   ]
  },
  {
   "cell_type": "code",
   "execution_count": 11,
   "id": "1ab5419d",
   "metadata": {},
   "outputs": [
    {
     "data": {
      "text/plain": [
       "array([[[255, 136,  68],\n",
       "        [255, 138,  73],\n",
       "        [255, 138,  78],\n",
       "        ...,\n",
       "        [255, 204, 138],\n",
       "        [255, 206, 139],\n",
       "        [255, 206, 139]],\n",
       "\n",
       "       [[255, 136,  68],\n",
       "        [255, 136,  71],\n",
       "        [255, 136,  75],\n",
       "        ...,\n",
       "        [255, 206, 138],\n",
       "        [255, 208, 141],\n",
       "        [255, 211, 143]],\n",
       "\n",
       "       [[255, 139,  72],\n",
       "        [255, 140,  74],\n",
       "        [255, 139,  74],\n",
       "        ...,\n",
       "        [255, 214, 143],\n",
       "        [255, 215, 146],\n",
       "        [255, 217, 148]],\n",
       "\n",
       "       ...,\n",
       "\n",
       "       [[255, 159, 129],\n",
       "        [255, 163, 131],\n",
       "        [255, 169, 135],\n",
       "        ...,\n",
       "        [126,  59,  44],\n",
       "        [133,  59,  45],\n",
       "        [138,  64,  50]],\n",
       "\n",
       "       [[255, 170, 135],\n",
       "        [255, 172, 136],\n",
       "        [255, 173, 137],\n",
       "        ...,\n",
       "        [128,  60,  46],\n",
       "        [136,  59,  44],\n",
       "        [138,  62,  47]],\n",
       "\n",
       "       [[255, 172, 135],\n",
       "        [255, 172, 135],\n",
       "        [255, 175, 137],\n",
       "        ...,\n",
       "        [127,  57,  43],\n",
       "        [138,  59,  44],\n",
       "        [139,  61,  45]]], dtype=uint8)"
      ]
     },
     "execution_count": 11,
     "metadata": {},
     "output_type": "execute_result"
    }
   ],
   "source": [
    " cv2.rectangle(pics,(100,300),(400,500),[0,255,0],2)"
   ]
  },
  {
   "cell_type": "code",
   "execution_count": 12,
   "id": "84496b21",
   "metadata": {},
   "outputs": [
    {
     "data": {
      "text/plain": [
       "array([[[255, 136,  68],\n",
       "        [255, 138,  73],\n",
       "        [255, 138,  78],\n",
       "        ...,\n",
       "        [255, 204, 138],\n",
       "        [255, 206, 139],\n",
       "        [255, 206, 139]],\n",
       "\n",
       "       [[255, 136,  68],\n",
       "        [255, 136,  71],\n",
       "        [255, 136,  75],\n",
       "        ...,\n",
       "        [255, 206, 138],\n",
       "        [255, 208, 141],\n",
       "        [255, 211, 143]],\n",
       "\n",
       "       [[255, 139,  72],\n",
       "        [255, 140,  74],\n",
       "        [255, 139,  74],\n",
       "        ...,\n",
       "        [255, 214, 143],\n",
       "        [255, 215, 146],\n",
       "        [255, 217, 148]],\n",
       "\n",
       "       ...,\n",
       "\n",
       "       [[255, 159, 129],\n",
       "        [255, 163, 131],\n",
       "        [255, 169, 135],\n",
       "        ...,\n",
       "        [126,  59,  44],\n",
       "        [133,  59,  45],\n",
       "        [138,  64,  50]],\n",
       "\n",
       "       [[255, 170, 135],\n",
       "        [255, 172, 136],\n",
       "        [255, 173, 137],\n",
       "        ...,\n",
       "        [128,  60,  46],\n",
       "        [136,  59,  44],\n",
       "        [138,  62,  47]],\n",
       "\n",
       "       [[255, 172, 135],\n",
       "        [255, 172, 135],\n",
       "        [255, 175, 137],\n",
       "        ...,\n",
       "        [127,  57,  43],\n",
       "        [138,  59,  44],\n",
       "        [139,  61,  45]]], dtype=uint8)"
      ]
     },
     "execution_count": 12,
     "metadata": {},
     "output_type": "execute_result"
    }
   ],
   "source": [
    "#face ke around hi krna he to coordinate chiye honge face ke jo ki haarcascade dega hmee\n",
    "x1=190\n",
    "y1=174\n",
    "x2=190+179\n",
    "y2=174+179\n",
    "cv2.rectangle(pics,(x1,y1),(x2,y2),[0,255,0],2)"
   ]
  },
  {
   "cell_type": "code",
   "execution_count": 13,
   "id": "12554c64",
   "metadata": {},
   "outputs": [],
   "source": [
    "cv2.imshow(\"my pic\", pics)\n",
    "cv2.waitKey(5000)  #it is in millisecond 5000 millisecond == 5 sec\n",
    "\n",
    "cv2.destroyAllWindows()"
   ]
  },
  {
   "cell_type": "code",
   "execution_count": 14,
   "id": "e6b64deb",
   "metadata": {},
   "outputs": [
    {
     "data": {
      "text/plain": [
       "array([[[255, 136,  68],\n",
       "        [255, 138,  73],\n",
       "        [255, 138,  78],\n",
       "        ...,\n",
       "        [255, 204, 138],\n",
       "        [255, 206, 139],\n",
       "        [255, 206, 139]],\n",
       "\n",
       "       [[255, 136,  68],\n",
       "        [255, 136,  71],\n",
       "        [255, 136,  75],\n",
       "        ...,\n",
       "        [255, 206, 138],\n",
       "        [255, 208, 141],\n",
       "        [255, 211, 143]],\n",
       "\n",
       "       [[255, 139,  72],\n",
       "        [255, 140,  74],\n",
       "        [255, 139,  74],\n",
       "        ...,\n",
       "        [255, 214, 143],\n",
       "        [255, 215, 146],\n",
       "        [255, 217, 148]],\n",
       "\n",
       "       ...,\n",
       "\n",
       "       [[255, 159, 129],\n",
       "        [255, 163, 131],\n",
       "        [255, 169, 135],\n",
       "        ...,\n",
       "        [126,  59,  44],\n",
       "        [133,  59,  45],\n",
       "        [138,  64,  50]],\n",
       "\n",
       "       [[255, 170, 135],\n",
       "        [255, 172, 136],\n",
       "        [255, 173, 137],\n",
       "        ...,\n",
       "        [128,  60,  46],\n",
       "        [136,  59,  44],\n",
       "        [138,  62,  47]],\n",
       "\n",
       "       [[255, 172, 135],\n",
       "        [255, 172, 135],\n",
       "        [255, 175, 137],\n",
       "        ...,\n",
       "        [127,  57,  43],\n",
       "        [138,  59,  44],\n",
       "        [139,  61,  45]]], dtype=uint8)"
      ]
     },
     "execution_count": 14,
     "metadata": {},
     "output_type": "execute_result"
    }
   ],
   "source": [
    "myfacecoord= facemodel.detectMultiScale(pics)\n",
    "x1= myfacecoord[0][0]\n",
    "y1= myfacecoord[0][1]\n",
    "x2= myfacecoord[0][0] + myfacecoord[0][2]\n",
    "y2= myfacecoord[0][0] + myfacecoord[0][3]\n",
    "cv2.rectangle(pics,(x1,y1),(x2,y2),[0,255,0],2)"
   ]
  },
  {
   "cell_type": "code",
   "execution_count": null,
   "id": "2ec6f32f",
   "metadata": {},
   "outputs": [],
   "source": [
    "while True:\n",
    "    status , pics = cap.read()\n",
    "    myfacecoord= facemodel.detectMultiScale(pics)\n",
    "    if len(myfacecoord)==1:\n",
    "        x1= myfacecoord[0][0]\n",
    "        y1= myfacecoord[0][1]\n",
    "        x2= myfacecoord[0][0] + myfacecoord[0][2]\n",
    "        y2= myfacecoord[0][0] + myfacecoord[0][3]\n",
    "        cv2.rectangle(pics,(x1,y1),(x2,y2),[0,255,0],2)\n",
    "\n",
    "    cv2.imshow(\"my pic\", pics)\n",
    "    if cv2.waitKey() ==13:  #it is in millisecond 5000 millisecond == 5 sec\n",
    "        break\n",
    "\n",
    "cv2.destroyAllWindows()"
   ]
  },
  {
   "cell_type": "code",
   "execution_count": null,
   "id": "4c46dfd1",
   "metadata": {},
   "outputs": [],
   "source": []
  }
 ],
 "metadata": {
  "kernelspec": {
   "display_name": "Python 3 (ipykernel)",
   "language": "python",
   "name": "python3"
  },
  "language_info": {
   "codemirror_mode": {
    "name": "ipython",
    "version": 3
   },
   "file_extension": ".py",
   "mimetype": "text/x-python",
   "name": "python",
   "nbconvert_exporter": "python",
   "pygments_lexer": "ipython3",
   "version": "3.9.12"
  }
 },
 "nbformat": 4,
 "nbformat_minor": 5
}
