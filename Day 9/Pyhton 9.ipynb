{
 "cells": [
  {
   "cell_type": "markdown",
   "id": "2b6ba4f3",
   "metadata": {},
   "source": [
    "# OOP's"
   ]
  },
  {
   "cell_type": "code",
   "execution_count": 1,
   "id": "edd25843",
   "metadata": {},
   "outputs": [],
   "source": [
    "#Creating a calss and its attributes:\n",
    "class SummerForm:\n",
    "    name  =None\n",
    "    whatsapp = None\n",
    "    enquiry = None"
   ]
  },
  {
   "cell_type": "code",
   "execution_count": 3,
   "id": "2e73f76d",
   "metadata": {},
   "outputs": [],
   "source": [
    "class Jobform:\n",
    "    name = None\n",
    "    Email= None\n",
    "    Exprience= None"
   ]
  },
  {
   "cell_type": "code",
   "execution_count": 4,
   "id": "71c7e676",
   "metadata": {},
   "outputs": [],
   "source": [
    "#instaciate kr rhe he form ko means object create kr rhe he form ki help se\n",
    "rahul= SummerForm()"
   ]
  },
  {
   "cell_type": "code",
   "execution_count": 5,
   "id": "eb13de79",
   "metadata": {},
   "outputs": [],
   "source": [
    "rahul.name = \"rahul\"\n",
    "rahul.wahtsapp =8000364886\n",
    "rahul.enquiry = \"summer training\""
   ]
  },
  {
   "cell_type": "code",
   "execution_count": 6,
   "id": "1286835f",
   "metadata": {},
   "outputs": [
    {
     "data": {
      "text/plain": [
       "'rahul'"
      ]
     },
     "execution_count": 6,
     "metadata": {},
     "output_type": "execute_result"
    }
   ],
   "source": [
    "rahul.name"
   ]
  },
  {
   "cell_type": "code",
   "execution_count": 7,
   "id": "cb322aaf",
   "metadata": {},
   "outputs": [
    {
     "data": {
      "text/plain": [
       "{'name': 'rahul', 'wahtsapp': 8000364886, 'enquiry': 'summer training'}"
      ]
     },
     "execution_count": 7,
     "metadata": {},
     "output_type": "execute_result"
    }
   ],
   "source": [
    "rahul.__dict__"
   ]
  },
  {
   "cell_type": "code",
   "execution_count": 8,
   "id": "3eea339d",
   "metadata": {},
   "outputs": [],
   "source": [
    "yash= SummerForm()"
   ]
  },
  {
   "cell_type": "code",
   "execution_count": 9,
   "id": "5747238c",
   "metadata": {},
   "outputs": [
    {
     "data": {
      "text/plain": [
       "{}"
      ]
     },
     "execution_count": 9,
     "metadata": {},
     "output_type": "execute_result"
    }
   ],
   "source": [
    "yash.__dict__"
   ]
  },
  {
   "cell_type": "code",
   "execution_count": 10,
   "id": "fe1f955e",
   "metadata": {},
   "outputs": [
    {
     "data": {
      "text/plain": [
       "2837172006240"
      ]
     },
     "execution_count": 10,
     "metadata": {},
     "output_type": "execute_result"
    }
   ],
   "source": [
    "id(yash)"
   ]
  },
  {
   "cell_type": "code",
   "execution_count": 11,
   "id": "9b367964",
   "metadata": {},
   "outputs": [
    {
     "data": {
      "text/plain": [
       "2837168347600"
      ]
     },
     "execution_count": 11,
     "metadata": {},
     "output_type": "execute_result"
    }
   ],
   "source": [
    "id(rahul)"
   ]
  },
  {
   "cell_type": "markdown",
   "id": "a3f372fb",
   "metadata": {},
   "source": [
    "# class privatisation or Access Modifier:"
   ]
  },
  {
   "cell_type": "code",
   "execution_count": 30,
   "id": "353a7240",
   "metadata": {},
   "outputs": [],
   "source": [
    "class ApplicationForm:\n",
    "    name = None\n",
    "    city = None\n",
    "    Course= None\n",
    "    \n",
    "    def cn(self,n):    #these are known as methods or Access Modeifier\n",
    "        self.name = n\n",
    "    \n",
    "    def cc(self,m):\n",
    "        self.city =m\n",
    "        \n",
    "    "
   ]
  },
  {
   "cell_type": "code",
   "execution_count": 31,
   "id": "1ad3bf98",
   "metadata": {},
   "outputs": [],
   "source": [
    "ishant= ApplicationForm()"
   ]
  },
  {
   "cell_type": "code",
   "execution_count": 32,
   "id": "dd2548ba",
   "metadata": {},
   "outputs": [],
   "source": [
    "ishant.cn(\"ishant kushwah\") #iske sath adressbhi jayega isiliye bol rha he ki 2 pass kiye he"
   ]
  },
  {
   "cell_type": "code",
   "execution_count": 33,
   "id": "19d8fbb8",
   "metadata": {},
   "outputs": [],
   "source": [
    "ishant.cc(\"jaipur\")"
   ]
  },
  {
   "cell_type": "code",
   "execution_count": 34,
   "id": "f28ae255",
   "metadata": {},
   "outputs": [
    {
     "data": {
      "text/plain": [
       "{'name': 'ishant kushwah', 'city': 'jaipur'}"
      ]
     },
     "execution_count": 34,
     "metadata": {},
     "output_type": "execute_result"
    }
   ],
   "source": [
    "ishant.__dict__"
   ]
  },
  {
   "cell_type": "code",
   "execution_count": null,
   "id": "b3a4674c",
   "metadata": {},
   "outputs": [],
   "source": []
  }
 ],
 "metadata": {
  "kernelspec": {
   "display_name": "Python 3 (ipykernel)",
   "language": "python",
   "name": "python3"
  },
  "language_info": {
   "codemirror_mode": {
    "name": "ipython",
    "version": 3
   },
   "file_extension": ".py",
   "mimetype": "text/x-python",
   "name": "python",
   "nbconvert_exporter": "python",
   "pygments_lexer": "ipython3",
   "version": "3.9.12"
  }
 },
 "nbformat": 4,
 "nbformat_minor": 5
}
