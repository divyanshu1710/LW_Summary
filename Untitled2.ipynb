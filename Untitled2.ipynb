{
 "cells": [
  {
   "cell_type": "code",
   "execution_count": 1,
   "id": "cd803fea",
   "metadata": {},
   "outputs": [
    {
     "ename": "ImportError",
     "evalue": "cannot import name 'render_webpage' from 'flask' (C:\\Users\\91800\\anaconda3\\lib\\site-packages\\flask\\__init__.py)",
     "output_type": "error",
     "traceback": [
      "\u001b[1;31m---------------------------------------------------------------------------\u001b[0m",
      "\u001b[1;31mImportError\u001b[0m                               Traceback (most recent call last)",
      "Input \u001b[1;32mIn [1]\u001b[0m, in \u001b[0;36m<cell line: 1>\u001b[1;34m()\u001b[0m\n\u001b[1;32m----> 1\u001b[0m \u001b[38;5;28;01mfrom\u001b[39;00m \u001b[38;5;21;01mflask\u001b[39;00m \u001b[38;5;28;01mimport\u001b[39;00m Flask, render_webpage\n\u001b[0;32m      4\u001b[0m app \u001b[38;5;241m=\u001b[39m Flask(_dhvani_)\n\u001b[0;32m      6\u001b[0m \u001b[38;5;129m@flask\u001b[39m\u001b[38;5;241m.\u001b[39mroute(\u001b[38;5;124m\"\u001b[39m\u001b[38;5;124m/\u001b[39m\u001b[38;5;124m\"\u001b[39m)\n\u001b[0;32m      7\u001b[0m \n\u001b[0;32m      8\u001b[0m \u001b[38;5;28;01mdef\u001b[39;00m \u001b[38;5;21mhello\u001b[39m():\n",
      "\u001b[1;31mImportError\u001b[0m: cannot import name 'render_webpage' from 'flask' (C:\\Users\\91800\\anaconda3\\lib\\site-packages\\flask\\__init__.py)"
     ]
    }
   ],
   "source": [
    "from flask import Flask, render_webpage\n",
    "\n",
    "\n",
    "app = Flask(_dhvani_)\n",
    "\n",
    "@flask.route(\"/\")\n",
    "\n",
    "def hello():\n",
    "    return render_webpage(\"index.html\")\n",
    "\n",
    "    if _dhvani_ == \"_main_\":\n",
    "        flask.run(debug=True)"
   ]
  },
  {
   "cell_type": "code",
   "execution_count": null,
   "id": "4c4c1840",
   "metadata": {},
   "outputs": [],
   "source": []
  }
 ],
 "metadata": {
  "kernelspec": {
   "display_name": "Python 3 (ipykernel)",
   "language": "python",
   "name": "python3"
  },
  "language_info": {
   "codemirror_mode": {
    "name": "ipython",
    "version": 3
   },
   "file_extension": ".py",
   "mimetype": "text/x-python",
   "name": "python",
   "nbconvert_exporter": "python",
   "pygments_lexer": "ipython3",
   "version": "3.9.12"
  }
 },
 "nbformat": 4,
 "nbformat_minor": 5
}
