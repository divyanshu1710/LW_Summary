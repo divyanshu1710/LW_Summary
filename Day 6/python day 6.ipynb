{
 "cells": [
  {
   "cell_type": "code",
   "execution_count": 3,
   "id": "e28ac5d5",
   "metadata": {},
   "outputs": [],
   "source": [
    "names=[\"ajay\",\"akshat\",\"divyanshu\",\"krish\",\"rahul\"]"
   ]
  },
  {
   "cell_type": "code",
   "execution_count": 5,
   "id": "007ba445",
   "metadata": {},
   "outputs": [
    {
     "data": {
      "text/plain": [
       "True"
      ]
     },
     "execution_count": 5,
     "metadata": {},
     "output_type": "execute_result"
    }
   ],
   "source": [
    "\"divyanshu\" in names  # it will iterate one by one in list and search fro the given name"
   ]
  },
  {
   "cell_type": "code",
   "execution_count": 6,
   "id": "36999d5a",
   "metadata": {},
   "outputs": [
    {
     "data": {
      "text/plain": [
       "False"
      ]
     },
     "execution_count": 6,
     "metadata": {},
     "output_type": "execute_result"
    }
   ],
   "source": [
    "\"akshay\" in names # it gives boolean answer"
   ]
  },
  {
   "cell_type": "code",
   "execution_count": 8,
   "id": "3729e2d2",
   "metadata": {},
   "outputs": [
    {
     "name": "stdout",
     "output_type": "stream",
     "text": [
      "jai mata di ajay\n"
     ]
    }
   ],
   "source": [
    " if \"ajay\" in names:\n",
    "        print(\"jai mata di ajay\")\n",
    "else:\n",
    "    print(\"radhe radhe\")"
   ]
  },
  {
   "cell_type": "code",
   "execution_count": 3,
   "id": "fbc09564",
   "metadata": {},
   "outputs": [
    {
     "name": "stdout",
     "output_type": "stream",
     "text": [
      "enter your meassage: name btaa tera bhai\n",
      "my name is chattgpt\n"
     ]
    }
   ],
   "source": [
    "str = input(\"enter your meassage: \")\n",
    "if \"name\" in str:\n",
    "    print(\"my name is chattgpt\")\n",
    "elif \"caste\" in str:\n",
    "    print(\"i dont have any caste sorry\")\n",
    "else:\n",
    "    print(\"kuch nhi bhai so jaa\")\n",
    "    \n",
    "#we can use the logical operators like and ,or and not for the conditions in these kinds of commands.\n",
    "#Task : launch one linux through voice or text...\n",
    "    "
   ]
  },
  {
   "cell_type": "markdown",
   "id": "bd7bac08",
   "metadata": {},
   "source": [
    "# File Handling\n"
   ]
  },
  {
   "cell_type": "code",
   "execution_count": 4,
   "id": "edd4aabc",
   "metadata": {},
   "outputs": [],
   "source": [
    "# in linux we can use cat> command for making file and writing it. \n",
    "#cat command for reading the file \n",
    "#and cat>> to appens the file"
   ]
  },
  {
   "cell_type": "code",
   "execution_count": 29,
   "id": "bc096a1f",
   "metadata": {},
   "outputs": [
    {
     "data": {
      "text/plain": [
       "<_io.TextIOWrapper name='lw1.txt' mode='r' encoding='cp1252'>"
      ]
     },
     "execution_count": 29,
     "metadata": {},
     "output_type": "execute_result"
    }
   ],
   "source": [
    "#to open any file:\n",
    "opf = open(\"lw1.txt\" , mode =\"r\")\n",
    "opf"
   ]
  },
  {
   "cell_type": "code",
   "execution_count": 31,
   "id": "1c499978",
   "metadata": {},
   "outputs": [
    {
     "name": "stdout",
     "output_type": "stream",
     "text": [
      "hi this is first line\n",
      "this is second line \n",
      "third line forth line \n",
      "jai mata di\n",
      "bye\n"
     ]
    }
   ],
   "source": [
    "#how to read any file after opening it\n",
    "readf= opf.read()\n",
    "print(readf)"
   ]
  },
  {
   "cell_type": "code",
   "execution_count": 33,
   "id": "1ea66403",
   "metadata": {},
   "outputs": [
    {
     "data": {
      "text/plain": [
       "'hi this is first line\\nthis is second line \\nthird line forth line \\njai mata di\\nbye'"
      ]
     },
     "execution_count": 33,
     "metadata": {},
     "output_type": "execute_result"
    }
   ],
   "source": [
    "readf \n",
    "# file is nothing but a large string serperated by /n at the place of enter.\n",
    "#eof == end of file , after reading file first time it reaches at and of file so noe it does not know start point hence we have to open the file agian to read it once again.\n"
   ]
  },
  {
   "cell_type": "code",
   "execution_count": 30,
   "id": "2305631d",
   "metadata": {},
   "outputs": [
    {
     "data": {
      "text/plain": [
       "0"
      ]
     },
     "execution_count": 30,
     "metadata": {},
     "output_type": "execute_result"
    }
   ],
   "source": [
    "#tell me where i am in the file at the starting point of time\n",
    "opf.tell()"
   ]
  },
  {
   "cell_type": "code",
   "execution_count": 35,
   "id": "8709a70b",
   "metadata": {},
   "outputs": [
    {
     "data": {
      "text/plain": [
       "81"
      ]
     },
     "execution_count": 35,
     "metadata": {},
     "output_type": "execute_result"
    }
   ],
   "source": [
    "#after reading the file iam at 81th pos\n",
    "opf.tell()"
   ]
  },
  {
   "cell_type": "code",
   "execution_count": 36,
   "id": "0c6f4f58",
   "metadata": {},
   "outputs": [],
   "source": [
    "#to close the file\n",
    "opf.close()"
   ]
  },
  {
   "cell_type": "code",
   "execution_count": null,
   "id": "12141a2b",
   "metadata": {},
   "outputs": [],
   "source": []
  }
 ],
 "metadata": {
  "kernelspec": {
   "display_name": "Python 3 (ipykernel)",
   "language": "python",
   "name": "python3"
  },
  "language_info": {
   "codemirror_mode": {
    "name": "ipython",
    "version": 3
   },
   "file_extension": ".py",
   "mimetype": "text/x-python",
   "name": "python",
   "nbconvert_exporter": "python",
   "pygments_lexer": "ipython3",
   "version": "3.9.12"
  }
 },
 "nbformat": 4,
 "nbformat_minor": 5
}
