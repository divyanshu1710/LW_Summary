{
 "cells": [
  {
   "cell_type": "code",
   "execution_count": 2,
   "id": "066fa6f9",
   "metadata": {},
   "outputs": [],
   "source": [
    "db =[11,\"divyanshu\",\"ok\",98765]"
   ]
  },
  {
   "cell_type": "code",
   "execution_count": 3,
   "id": "5e0b3fb1",
   "metadata": {},
   "outputs": [
    {
     "data": {
      "text/plain": [
       "98765"
      ]
     },
     "execution_count": 3,
     "metadata": {},
     "output_type": "execute_result"
    }
   ],
   "source": [
    "db[3]"
   ]
  },
  {
   "cell_type": "code",
   "execution_count": 4,
   "id": "a72c1d5e",
   "metadata": {},
   "outputs": [],
   "source": [
    "db.insert(2,\"d@gmail.com\")"
   ]
  },
  {
   "cell_type": "code",
   "execution_count": 5,
   "id": "51edfce1",
   "metadata": {},
   "outputs": [
    {
     "data": {
      "text/plain": [
       "'ok'"
      ]
     },
     "execution_count": 5,
     "metadata": {},
     "output_type": "execute_result"
    }
   ],
   "source": [
    "db[3] #by using insert function we add data at the particular data"
   ]
  },
  {
   "cell_type": "markdown",
   "id": "728dafd7",
   "metadata": {},
   "source": [
    "#dictionary\n",
    "\n"
   ]
  },
  {
   "cell_type": "code",
   "execution_count": 15,
   "id": "176e03c8",
   "metadata": {},
   "outputs": [],
   "source": [
    "dict ={ \"id\": 1,\n",
    "        \"name\": \"divyanshu\",\n",
    "        \"remarks\": \"ok\",\n",
    "        \"mob\": 98789\n",
    "      }"
   ]
  },
  {
   "cell_type": "code",
   "execution_count": 12,
   "id": "b7cc0d7b",
   "metadata": {},
   "outputs": [
    {
     "name": "stdout",
     "output_type": "stream",
     "text": [
      "{'id': 1, 'name': 'divyanshu', 'remarks': 'ok', 'mob': 98789}\n",
      "<class 'dict'>\n"
     ]
    }
   ],
   "source": [
    "print(dict)\n",
    "print(type(dict))"
   ]
  },
  {
   "cell_type": "code",
   "execution_count": 8,
   "id": "df942cc8",
   "metadata": {},
   "outputs": [
    {
     "data": {
      "text/plain": [
       "1"
      ]
     },
     "execution_count": 8,
     "metadata": {},
     "output_type": "execute_result"
    }
   ],
   "source": [
    "dict[\"id\"]"
   ]
  },
  {
   "cell_type": "code",
   "execution_count": 9,
   "id": "d6f8873f",
   "metadata": {},
   "outputs": [],
   "source": [
    "#dictionary is chosen over the list becuase we are the one who gives this index so there is no chance of redundancy in the case of append and insertion of data in list."
   ]
  },
  {
   "cell_type": "code",
   "execution_count": 17,
   "id": "51857fb8",
   "metadata": {},
   "outputs": [],
   "source": [
    "student= {\n",
    "    \"name\": [\"divyanshu\",\"ayush\",\"ajay\"],\n",
    "    \"remarks\": [\"ok\",\"good\",\"vgood\"],\n",
    "    \"mob\": [111,222,333],\n",
    "    }"
   ]
  },
  {
   "cell_type": "code",
   "execution_count": 18,
   "id": "c5ec8ae2",
   "metadata": {},
   "outputs": [
    {
     "data": {
      "text/plain": [
       "{'name': ['divyanshu', 'ayush', 'ajay'],\n",
       " 'remarks': ['ok', 'good', 'vgood'],\n",
       " 'mob': [111, 222, 333]}"
      ]
     },
     "execution_count": 18,
     "metadata": {},
     "output_type": "execute_result"
    }
   ],
   "source": [
    "student"
   ]
  },
  {
   "cell_type": "code",
   "execution_count": 19,
   "id": "98644638",
   "metadata": {},
   "outputs": [
    {
     "data": {
      "text/plain": [
       "['divyanshu', 'ayush', 'ajay']"
      ]
     },
     "execution_count": 19,
     "metadata": {},
     "output_type": "execute_result"
    }
   ],
   "source": [
    "student[\"name\"]"
   ]
  },
  {
   "cell_type": "code",
   "execution_count": 20,
   "id": "20e3bfb3",
   "metadata": {},
   "outputs": [
    {
     "data": {
      "text/plain": [
       "dict"
      ]
     },
     "execution_count": 20,
     "metadata": {},
     "output_type": "execute_result"
    }
   ],
   "source": [
    "type(student)"
   ]
  },
  {
   "cell_type": "code",
   "execution_count": 42,
   "id": "66a1824f",
   "metadata": {},
   "outputs": [
    {
     "data": {
      "text/plain": [
       "('ayush', 'good', 222)"
      ]
     },
     "execution_count": 42,
     "metadata": {},
     "output_type": "execute_result"
    }
   ],
   "source": [
    "student[\"name\"][1],student[\"remarks\"][1],student[\"mob\"][1]\n",
    "#but we cant do row wise operation we can only do columnar operation\n",
    "       \n"
   ]
  },
  {
   "cell_type": "code",
   "execution_count": 80,
   "id": "3bcda73f",
   "metadata": {},
   "outputs": [],
   "source": [
    "#pandas intro:\n",
    "\n",
    "import pandas as pd"
   ]
  },
  {
   "cell_type": "code",
   "execution_count": 81,
   "id": "176bd9fc",
   "metadata": {},
   "outputs": [],
   "source": [
    "new =pd.DataFrame(student)"
   ]
  },
  {
   "cell_type": "code",
   "execution_count": 82,
   "id": "0850465b",
   "metadata": {},
   "outputs": [
    {
     "data": {
      "text/plain": [
       "0    111\n",
       "1    222\n",
       "2    333\n",
       "Name: mob, dtype: int64"
      ]
     },
     "execution_count": 82,
     "metadata": {},
     "output_type": "execute_result"
    }
   ],
   "source": [
    "new[\"mob\"]"
   ]
  },
  {
   "cell_type": "code",
   "execution_count": 83,
   "id": "809c7467",
   "metadata": {},
   "outputs": [
    {
     "data": {
      "text/html": [
       "<div>\n",
       "<style scoped>\n",
       "    .dataframe tbody tr th:only-of-type {\n",
       "        vertical-align: middle;\n",
       "    }\n",
       "\n",
       "    .dataframe tbody tr th {\n",
       "        vertical-align: top;\n",
       "    }\n",
       "\n",
       "    .dataframe thead th {\n",
       "        text-align: right;\n",
       "    }\n",
       "</style>\n",
       "<table border=\"1\" class=\"dataframe\">\n",
       "  <thead>\n",
       "    <tr style=\"text-align: right;\">\n",
       "      <th></th>\n",
       "      <th>name</th>\n",
       "      <th>mob</th>\n",
       "    </tr>\n",
       "  </thead>\n",
       "  <tbody>\n",
       "    <tr>\n",
       "      <th>0</th>\n",
       "      <td>divyanshu</td>\n",
       "      <td>111</td>\n",
       "    </tr>\n",
       "    <tr>\n",
       "      <th>1</th>\n",
       "      <td>ayush</td>\n",
       "      <td>222</td>\n",
       "    </tr>\n",
       "    <tr>\n",
       "      <th>2</th>\n",
       "      <td>ajay</td>\n",
       "      <td>333</td>\n",
       "    </tr>\n",
       "  </tbody>\n",
       "</table>\n",
       "</div>"
      ],
      "text/plain": [
       "        name  mob\n",
       "0  divyanshu  111\n",
       "1      ayush  222\n",
       "2       ajay  333"
      ]
     },
     "execution_count": 83,
     "metadata": {},
     "output_type": "execute_result"
    }
   ],
   "source": [
    "new[[\"name\",\"mob\"]] #column wise operation "
   ]
  },
  {
   "cell_type": "code",
   "execution_count": 84,
   "id": "90fc4f8e",
   "metadata": {},
   "outputs": [
    {
     "data": {
      "text/plain": [
       "name        ajay\n",
       "remarks    vgood\n",
       "mob          333\n",
       "Name: 2, dtype: object"
      ]
     },
     "execution_count": 84,
     "metadata": {},
     "output_type": "execute_result"
    }
   ],
   "source": [
    "new.loc[2]"
   ]
  },
  {
   "cell_type": "code",
   "execution_count": 94,
   "id": "91db73aa",
   "metadata": {},
   "outputs": [],
   "source": [
    "df1 = pd.read_csv(\"aaa.csv\")\n"
   ]
  },
  {
   "cell_type": "code",
   "execution_count": 95,
   "id": "bd1c46e8",
   "metadata": {},
   "outputs": [
    {
     "data": {
      "text/html": [
       "<div>\n",
       "<style scoped>\n",
       "    .dataframe tbody tr th:only-of-type {\n",
       "        vertical-align: middle;\n",
       "    }\n",
       "\n",
       "    .dataframe tbody tr th {\n",
       "        vertical-align: top;\n",
       "    }\n",
       "\n",
       "    .dataframe thead th {\n",
       "        text-align: right;\n",
       "    }\n",
       "</style>\n",
       "<table border=\"1\" class=\"dataframe\">\n",
       "  <thead>\n",
       "    <tr style=\"text-align: right;\">\n",
       "      <th></th>\n",
       "      <th>Super built-up  Area</th>\n",
       "      <th>19-Dec</th>\n",
       "      <th>Electronic City Phase II</th>\n",
       "      <th>2 BHK</th>\n",
       "      <th>Coomee</th>\n",
       "      <th>1056</th>\n",
       "      <th>2</th>\n",
       "      <th>1</th>\n",
       "      <th>39.07</th>\n",
       "    </tr>\n",
       "  </thead>\n",
       "  <tbody>\n",
       "    <tr>\n",
       "      <th>0</th>\n",
       "      <td>Plot  Area</td>\n",
       "      <td>Ready To Move</td>\n",
       "      <td>Chikka Tirupathi</td>\n",
       "      <td>4 Bedroom</td>\n",
       "      <td>Theanmp</td>\n",
       "      <td>2600</td>\n",
       "      <td>5.0</td>\n",
       "      <td>3.0</td>\n",
       "      <td>120.0</td>\n",
       "    </tr>\n",
       "    <tr>\n",
       "      <th>1</th>\n",
       "      <td>Built-up  Area</td>\n",
       "      <td>Ready To Move</td>\n",
       "      <td>Uttarahalli</td>\n",
       "      <td>3 BHK</td>\n",
       "      <td>NaN</td>\n",
       "      <td>1440</td>\n",
       "      <td>2.0</td>\n",
       "      <td>3.0</td>\n",
       "      <td>62.0</td>\n",
       "    </tr>\n",
       "    <tr>\n",
       "      <th>2</th>\n",
       "      <td>Super built-up  Area</td>\n",
       "      <td>Ready To Move</td>\n",
       "      <td>Lingadheeranahalli</td>\n",
       "      <td>3 BHK</td>\n",
       "      <td>Soiewre</td>\n",
       "      <td>1521</td>\n",
       "      <td>3.0</td>\n",
       "      <td>1.0</td>\n",
       "      <td>95.0</td>\n",
       "    </tr>\n",
       "    <tr>\n",
       "      <th>3</th>\n",
       "      <td>Super built-up  Area</td>\n",
       "      <td>Ready To Move</td>\n",
       "      <td>Kothanur</td>\n",
       "      <td>2 BHK</td>\n",
       "      <td>NaN</td>\n",
       "      <td>1200</td>\n",
       "      <td>2.0</td>\n",
       "      <td>1.0</td>\n",
       "      <td>51.0</td>\n",
       "    </tr>\n",
       "    <tr>\n",
       "      <th>4</th>\n",
       "      <td>Super built-up  Area</td>\n",
       "      <td>Ready To Move</td>\n",
       "      <td>Whitefield</td>\n",
       "      <td>2 BHK</td>\n",
       "      <td>DuenaTa</td>\n",
       "      <td>1170</td>\n",
       "      <td>2.0</td>\n",
       "      <td>1.0</td>\n",
       "      <td>38.0</td>\n",
       "    </tr>\n",
       "    <tr>\n",
       "      <th>...</th>\n",
       "      <td>...</td>\n",
       "      <td>...</td>\n",
       "      <td>...</td>\n",
       "      <td>...</td>\n",
       "      <td>...</td>\n",
       "      <td>...</td>\n",
       "      <td>...</td>\n",
       "      <td>...</td>\n",
       "      <td>...</td>\n",
       "    </tr>\n",
       "    <tr>\n",
       "      <th>13314</th>\n",
       "      <td>Built-up  Area</td>\n",
       "      <td>Ready To Move</td>\n",
       "      <td>Whitefield</td>\n",
       "      <td>5 Bedroom</td>\n",
       "      <td>ArsiaEx</td>\n",
       "      <td>3453</td>\n",
       "      <td>4.0</td>\n",
       "      <td>0.0</td>\n",
       "      <td>231.0</td>\n",
       "    </tr>\n",
       "    <tr>\n",
       "      <th>13315</th>\n",
       "      <td>Super built-up  Area</td>\n",
       "      <td>Ready To Move</td>\n",
       "      <td>Richards Town</td>\n",
       "      <td>4 BHK</td>\n",
       "      <td>NaN</td>\n",
       "      <td>3600</td>\n",
       "      <td>5.0</td>\n",
       "      <td>NaN</td>\n",
       "      <td>400.0</td>\n",
       "    </tr>\n",
       "    <tr>\n",
       "      <th>13316</th>\n",
       "      <td>Built-up  Area</td>\n",
       "      <td>Ready To Move</td>\n",
       "      <td>Raja Rajeshwari Nagar</td>\n",
       "      <td>2 BHK</td>\n",
       "      <td>Mahla T</td>\n",
       "      <td>1141</td>\n",
       "      <td>2.0</td>\n",
       "      <td>1.0</td>\n",
       "      <td>60.0</td>\n",
       "    </tr>\n",
       "    <tr>\n",
       "      <th>13317</th>\n",
       "      <td>Super built-up  Area</td>\n",
       "      <td>18-Jun</td>\n",
       "      <td>Padmanabhanagar</td>\n",
       "      <td>4 BHK</td>\n",
       "      <td>SollyCl</td>\n",
       "      <td>4689</td>\n",
       "      <td>4.0</td>\n",
       "      <td>1.0</td>\n",
       "      <td>488.0</td>\n",
       "    </tr>\n",
       "    <tr>\n",
       "      <th>13318</th>\n",
       "      <td>Super built-up  Area</td>\n",
       "      <td>Ready To Move</td>\n",
       "      <td>Doddathoguru</td>\n",
       "      <td>1 BHK</td>\n",
       "      <td>NaN</td>\n",
       "      <td>550</td>\n",
       "      <td>1.0</td>\n",
       "      <td>1.0</td>\n",
       "      <td>17.0</td>\n",
       "    </tr>\n",
       "  </tbody>\n",
       "</table>\n",
       "<p>13319 rows × 9 columns</p>\n",
       "</div>"
      ],
      "text/plain": [
       "       Super built-up  Area         19-Dec Electronic City Phase II  \\\n",
       "0                Plot  Area  Ready To Move         Chikka Tirupathi   \n",
       "1            Built-up  Area  Ready To Move              Uttarahalli   \n",
       "2      Super built-up  Area  Ready To Move       Lingadheeranahalli   \n",
       "3      Super built-up  Area  Ready To Move                 Kothanur   \n",
       "4      Super built-up  Area  Ready To Move               Whitefield   \n",
       "...                     ...            ...                      ...   \n",
       "13314        Built-up  Area  Ready To Move               Whitefield   \n",
       "13315  Super built-up  Area  Ready To Move            Richards Town   \n",
       "13316        Built-up  Area  Ready To Move    Raja Rajeshwari Nagar   \n",
       "13317  Super built-up  Area         18-Jun          Padmanabhanagar   \n",
       "13318  Super built-up  Area  Ready To Move             Doddathoguru   \n",
       "\n",
       "           2 BHK  Coomee   1056    2    1  39.07  \n",
       "0      4 Bedroom  Theanmp  2600  5.0  3.0  120.0  \n",
       "1          3 BHK      NaN  1440  2.0  3.0   62.0  \n",
       "2          3 BHK  Soiewre  1521  3.0  1.0   95.0  \n",
       "3          2 BHK      NaN  1200  2.0  1.0   51.0  \n",
       "4          2 BHK  DuenaTa  1170  2.0  1.0   38.0  \n",
       "...          ...      ...   ...  ...  ...    ...  \n",
       "13314  5 Bedroom  ArsiaEx  3453  4.0  0.0  231.0  \n",
       "13315      4 BHK      NaN  3600  5.0  NaN  400.0  \n",
       "13316      2 BHK  Mahla T  1141  2.0  1.0   60.0  \n",
       "13317      4 BHK  SollyCl  4689  4.0  1.0  488.0  \n",
       "13318      1 BHK      NaN   550  1.0  1.0   17.0  \n",
       "\n",
       "[13319 rows x 9 columns]"
      ]
     },
     "execution_count": 95,
     "metadata": {},
     "output_type": "execute_result"
    }
   ],
   "source": [
    "df1"
   ]
  },
  {
   "cell_type": "code",
   "execution_count": 1,
   "id": "be14ce9b",
   "metadata": {},
   "outputs": [
    {
     "ename": "ModuleNotFoundError",
     "evalue": "No module named 'pywhatkit'",
     "output_type": "error",
     "traceback": [
      "\u001b[1;31m---------------------------------------------------------------------------\u001b[0m",
      "\u001b[1;31mModuleNotFoundError\u001b[0m                       Traceback (most recent call last)",
      "Input \u001b[1;32mIn [1]\u001b[0m, in \u001b[0;36m<cell line: 1>\u001b[1;34m()\u001b[0m\n\u001b[1;32m----> 1\u001b[0m \u001b[38;5;28;01mimport\u001b[39;00m \u001b[38;5;21;01mpywhatkit\u001b[39;00m\n",
      "\u001b[1;31mModuleNotFoundError\u001b[0m: No module named 'pywhatkit'"
     ]
    }
   ],
   "source": [
    "import pywhatkit"
   ]
  },
  {
   "cell_type": "code",
   "execution_count": null,
   "id": "f8d5334f",
   "metadata": {},
   "outputs": [],
   "source": [
    "number=\"+91 8000364886\"\n",
    "msg= “jai mata di”\n",
    "pywhatkit.sendwhatmsg(number,msg , 16, 10)"
   ]
  }
 ],
 "metadata": {
  "kernelspec": {
   "display_name": "Python 3 (ipykernel)",
   "language": "python",
   "name": "python3"
  },
  "language_info": {
   "codemirror_mode": {
    "name": "ipython",
    "version": 3
   },
   "file_extension": ".py",
   "mimetype": "text/x-python",
   "name": "python",
   "nbconvert_exporter": "python",
   "pygments_lexer": "ipython3",
   "version": "3.9.12"
  }
 },
 "nbformat": 4,
 "nbformat_minor": 5
}
