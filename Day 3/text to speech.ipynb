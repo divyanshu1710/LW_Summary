{
 "cells": [
  {
   "cell_type": "code",
   "execution_count": 1,
   "id": "a103f4bc",
   "metadata": {},
   "outputs": [
    {
     "name": "stdout",
     "output_type": "stream",
     "text": [
      "hi divyanshu\n"
     ]
    }
   ],
   "source": [
    "# to print on same console print function is used:\n",
    "print(\"hi divyanshu\")"
   ]
  },
  {
   "cell_type": "code",
   "execution_count": 4,
   "id": "a1aaa287",
   "metadata": {},
   "outputs": [],
   "source": [
    "import pyttsx3"
   ]
  },
  {
   "cell_type": "code",
   "execution_count": 5,
   "id": "443877c8",
   "metadata": {},
   "outputs": [],
   "source": [
    "myspeaker = pyttsx3.init()"
   ]
  },
  {
   "cell_type": "code",
   "execution_count": 14,
   "id": "56633299",
   "metadata": {},
   "outputs": [],
   "source": [
    "myspeaker.say(\"hi divyanshu\")\n"
   ]
  },
  {
   "cell_type": "code",
   "execution_count": 15,
   "id": "339f2245",
   "metadata": {},
   "outputs": [],
   "source": [
    "myspeaker.runAndWait()"
   ]
  },
  {
   "cell_type": "code",
   "execution_count": null,
   "id": "679b81b9",
   "metadata": {},
   "outputs": [],
   "source": []
  }
 ],
 "metadata": {
  "kernelspec": {
   "display_name": "Python 3 (ipykernel)",
   "language": "python",
   "name": "python3"
  },
  "language_info": {
   "codemirror_mode": {
    "name": "ipython",
    "version": 3
   },
   "file_extension": ".py",
   "mimetype": "text/x-python",
   "name": "python",
   "nbconvert_exporter": "python",
   "pygments_lexer": "ipython3",
   "version": "3.9.12"
  }
 },
 "nbformat": 4,
 "nbformat_minor": 5
}
