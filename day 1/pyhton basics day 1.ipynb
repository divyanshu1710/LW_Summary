{
 "cells": [
  {
   "cell_type": "code",
   "execution_count": 1,
   "id": "395ed074",
   "metadata": {},
   "outputs": [
    {
     "data": {
      "text/plain": [
       "15"
      ]
     },
     "execution_count": 1,
     "metadata": {},
     "output_type": "execute_result"
    }
   ],
   "source": [
    "8+7"
   ]
  },
  {
   "cell_type": "code",
   "execution_count": 2,
   "id": "e2156815",
   "metadata": {},
   "outputs": [],
   "source": [
    "x=\"divyanshu\",\"ayush\",\"shivansh\""
   ]
  },
  {
   "cell_type": "code",
   "execution_count": 3,
   "id": "b33db5b0",
   "metadata": {},
   "outputs": [
    {
     "name": "stdout",
     "output_type": "stream",
     "text": [
      "('divyanshu', 'ayush', 'shivansh')\n"
     ]
    }
   ],
   "source": [
    "print(x)"
   ]
  },
  {
   "cell_type": "code",
   "execution_count": 4,
   "id": "8598cd4b",
   "metadata": {},
   "outputs": [],
   "source": [
    "y= (\"divyanshu\",\"ajay\",\"ram\",8)"
   ]
  },
  {
   "cell_type": "code",
   "execution_count": 5,
   "id": "c5b4de02",
   "metadata": {},
   "outputs": [
    {
     "data": {
      "text/plain": [
       "('divyanshu', 'ajay', 'ram', 8)"
      ]
     },
     "execution_count": 5,
     "metadata": {},
     "output_type": "execute_result"
    }
   ],
   "source": [
    "y\n"
   ]
  },
  {
   "cell_type": "code",
   "execution_count": 7,
   "id": "e465cb09",
   "metadata": {},
   "outputs": [
    {
     "data": {
      "text/plain": [
       "['divyanshu', 'ayush', 'ishant', 'gupta']"
      ]
     },
     "execution_count": 7,
     "metadata": {},
     "output_type": "execute_result"
    }
   ],
   "source": [
    "z=[\"divyanshu\",\"ayush\",\"ishant\",\"gupta\"]\n",
    "z"
   ]
  },
  {
   "cell_type": "code",
   "execution_count": 8,
   "id": "a34ea695",
   "metadata": {},
   "outputs": [
    {
     "data": {
      "text/plain": [
       "['divyanshu', 'ayush']"
      ]
     },
     "execution_count": 8,
     "metadata": {},
     "output_type": "execute_result"
    }
   ],
   "source": [
    "z[0:2]"
   ]
  },
  {
   "cell_type": "code",
   "execution_count": 9,
   "id": "12ae7091",
   "metadata": {},
   "outputs": [],
   "source": [
    "z.append(\"dhruv gaur\")"
   ]
  },
  {
   "cell_type": "code",
   "execution_count": 10,
   "id": "5a532016",
   "metadata": {},
   "outputs": [
    {
     "data": {
      "text/plain": [
       "['divyanshu', 'ayush', 'ishant', 'gupta', 'dhruv gaur']"
      ]
     },
     "execution_count": 10,
     "metadata": {},
     "output_type": "execute_result"
    }
   ],
   "source": [
    "z"
   ]
  },
  {
   "cell_type": "code",
   "execution_count": 13,
   "id": "199dabb0",
   "metadata": {},
   "outputs": [
    {
     "data": {
      "text/plain": [
       "'anshu'"
      ]
     },
     "execution_count": 13,
     "metadata": {},
     "output_type": "execute_result"
    }
   ],
   "source": [
    "st= \"divyanshu\"\n",
    "st[4:]"
   ]
  },
  {
   "cell_type": "code",
   "execution_count": 14,
   "id": "5d8b9d50",
   "metadata": {},
   "outputs": [
    {
     "data": {
      "text/plain": [
       "['\\'\"chrome\"\\' is not recognized as an internal or external command,',\n",
       " 'operable program or batch file.']"
      ]
     },
     "execution_count": 14,
     "metadata": {},
     "output_type": "execute_result"
    }
   ],
   "source": [
    "system(\"chrome\")"
   ]
  },
  {
   "cell_type": "code",
   "execution_count": null,
   "id": "896b3bbc",
   "metadata": {},
   "outputs": [],
   "source": []
  }
 ],
 "metadata": {
  "kernelspec": {
   "display_name": "Python 3 (ipykernel)",
   "language": "python",
   "name": "python3"
  },
  "language_info": {
   "codemirror_mode": {
    "name": "ipython",
    "version": 3
   },
   "file_extension": ".py",
   "mimetype": "text/x-python",
   "name": "python",
   "nbconvert_exporter": "python",
   "pygments_lexer": "ipython3",
   "version": "3.9.12"
  }
 },
 "nbformat": 4,
 "nbformat_minor": 5
}
