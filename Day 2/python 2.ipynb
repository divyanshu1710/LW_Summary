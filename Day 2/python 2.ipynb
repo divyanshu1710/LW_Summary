{
 "cells": [
  {
   "cell_type": "code",
   "execution_count": 1,
   "id": "bd00422c",
   "metadata": {},
   "outputs": [],
   "source": [
    "names=[\"aman\",\"ayush\",\"aditya\",\"ajay\"]"
   ]
  },
  {
   "cell_type": "code",
   "execution_count": 2,
   "id": "e8f2c01d",
   "metadata": {},
   "outputs": [
    {
     "data": {
      "text/plain": [
       "['aman', 'ayush', 'aditya', 'ajay']"
      ]
     },
     "execution_count": 2,
     "metadata": {},
     "output_type": "execute_result"
    }
   ],
   "source": [
    "names"
   ]
  },
  {
   "cell_type": "code",
   "execution_count": 4,
   "id": "0fa1c953",
   "metadata": {},
   "outputs": [
    {
     "data": {
      "text/plain": [
       "[['divyanshu', 11, 'ok'],\n",
       " ['aman', 22, 'okok'],\n",
       " ['ajay', 33, 'vgood'],\n",
       " ['ayush', 44, 'good']]"
      ]
     },
     "execution_count": 4,
     "metadata": {},
     "output_type": "execute_result"
    }
   ],
   "source": [
    "names=[[\"divyanshu\",11,\"ok\"],\n",
    "      [\"aman\",22,\"okok\"],\n",
    "      [\"ajay\",33,\"vgood\"],\n",
    "      [\"ayush\",44,\"good\"]]\n",
    "\n",
    "names"
   ]
  },
  {
   "cell_type": "code",
   "execution_count": 5,
   "id": "25e70a56",
   "metadata": {},
   "outputs": [
    {
     "data": {
      "text/plain": [
       "33"
      ]
     },
     "execution_count": 5,
     "metadata": {},
     "output_type": "execute_result"
    }
   ],
   "source": [
    "names[2][1]"
   ]
  },
  {
   "cell_type": "code",
   "execution_count": 6,
   "id": "9a58b724",
   "metadata": {},
   "outputs": [],
   "source": [
    "#if we wnat to iterate the columns than it wouls not be poosible because list does not operate in column format\n",
    "#list only row wise kaam krta he untill hum loop yaa zip format allow na krre to.\n",
    "#yaa to numpy use krle"
   ]
  },
  {
   "cell_type": "code",
   "execution_count": 25,
   "id": "9da2d7a1",
   "metadata": {},
   "outputs": [],
   "source": [
    "import numpy as np\n"
   ]
  },
  {
   "cell_type": "code",
   "execution_count": 26,
   "id": "7d71c689",
   "metadata": {},
   "outputs": [],
   "source": [
    "nl=np.array(names)"
   ]
  },
  {
   "cell_type": "code",
   "execution_count": 27,
   "id": "34a68066",
   "metadata": {},
   "outputs": [
    {
     "data": {
      "text/plain": [
       "numpy.ndarray"
      ]
     },
     "execution_count": 27,
     "metadata": {},
     "output_type": "execute_result"
    }
   ],
   "source": [
    "type(nl)"
   ]
  },
  {
   "cell_type": "code",
   "execution_count": 28,
   "id": "394e8cae",
   "metadata": {},
   "outputs": [
    {
     "data": {
      "text/plain": [
       "(4, 3)"
      ]
     },
     "execution_count": 28,
     "metadata": {},
     "output_type": "execute_result"
    }
   ],
   "source": [
    "nl.shape"
   ]
  },
  {
   "cell_type": "code",
   "execution_count": 29,
   "id": "d077a713",
   "metadata": {},
   "outputs": [
    {
     "data": {
      "text/plain": [
       "2"
      ]
     },
     "execution_count": 29,
     "metadata": {},
     "output_type": "execute_result"
    }
   ],
   "source": [
    "nl.ndim"
   ]
  },
  {
   "cell_type": "code",
   "execution_count": 30,
   "id": "238d8e26",
   "metadata": {},
   "outputs": [
    {
     "data": {
      "text/plain": [
       "array(['11', '22', '33', '44'], dtype='<U11')"
      ]
     },
     "execution_count": 30,
     "metadata": {},
     "output_type": "execute_result"
    }
   ],
   "source": [
    "nl[:,1]"
   ]
  },
  {
   "cell_type": "code",
   "execution_count": 39,
   "id": "3d6d0ead",
   "metadata": {},
   "outputs": [
    {
     "data": {
      "text/plain": [
       "array(['divyanshu', 'siraj', 'jishan', 'omkar', 'ayush', 'akshat',\n",
       "       'tanmay', 'alok'], dtype='<U9')"
      ]
     },
     "execution_count": 39,
     "metadata": {},
     "output_type": "execute_result"
    }
   ],
   "source": [
    "ns = np.array([\"divyanshu\",\"siraj\",\"jishan\",\"omkar\",\"ayush\",\"akshat\",\"tanmay\",\"alok\"])\n",
    "ns"
   ]
  },
  {
   "cell_type": "code",
   "execution_count": 40,
   "id": "ddb88036",
   "metadata": {},
   "outputs": [
    {
     "data": {
      "text/plain": [
       "(8,)"
      ]
     },
     "execution_count": 40,
     "metadata": {},
     "output_type": "execute_result"
    }
   ],
   "source": [
    "ns.shape"
   ]
  },
  {
   "cell_type": "code",
   "execution_count": 41,
   "id": "a869d540",
   "metadata": {},
   "outputs": [
    {
     "data": {
      "text/plain": [
       "array([['divyanshu', 'siraj'],\n",
       "       ['jishan', 'omkar'],\n",
       "       ['ayush', 'akshat'],\n",
       "       ['tanmay', 'alok']], dtype='<U9')"
      ]
     },
     "execution_count": 41,
     "metadata": {},
     "output_type": "execute_result"
    }
   ],
   "source": [
    "ns.reshape(4,2)"
   ]
  },
  {
   "cell_type": "code",
   "execution_count": null,
   "id": "3f2dc474",
   "metadata": {},
   "outputs": [],
   "source": []
  }
 ],
 "metadata": {
  "kernelspec": {
   "display_name": "Python 3 (ipykernel)",
   "language": "python",
   "name": "python3"
  },
  "language_info": {
   "codemirror_mode": {
    "name": "ipython",
    "version": 3
   },
   "file_extension": ".py",
   "mimetype": "text/x-python",
   "name": "python",
   "nbconvert_exporter": "python",
   "pygments_lexer": "ipython3",
   "version": "3.9.12"
  }
 },
 "nbformat": 4,
 "nbformat_minor": 5
}
