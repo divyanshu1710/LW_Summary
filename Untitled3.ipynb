{
 "cells": [
  {
   "cell_type": "code",
   "execution_count": 7,
   "id": "e2437962",
   "metadata": {},
   "outputs": [],
   "source": [
    "arr=[2,5,4,7]\n",
    "s=0\n",
    "for i in range(0,n):\n",
    "    if arr[i]==s:\n",
    "        print(\"elemnent found\")\n",
    "    else:\n",
    "        print(\"element not found\")\n",
    "    "
   ]
  },
  {
   "cell_type": "code",
   "execution_count": 4,
   "id": "2b859ad7",
   "metadata": {},
   "outputs": [],
   "source": [
    "# class TreeNode:\n",
    "#     def __init__(self, val=0, left=None, right=None):\n",
    "#         self.val = val\n",
    "#         self.left = left\n",
    "#         self.right = right\n",
    "\n",
    "def traverasal(root,n):\n",
    "    count=0\n",
    "    if n:\n",
    "        traversal(node.left)\n",
    "        count+=1\n",
    "        \n",
    "        if count==n:\n",
    "            print(\"element found\")\n",
    "        \n",
    "    elif n:\n",
    "        traversal(node.right)\n",
    "        count+=1\n",
    "        if count==n:\n",
    "            print(\"element found in right child\")\n",
    "            \n",
    "    else:\n",
    "        print(\"element not found\")\n",
    "        \n"
   ]
  },
  {
   "cell_type": "code",
   "execution_count": 5,
   "id": "61ec930b",
   "metadata": {},
   "outputs": [
    {
     "ename": "SyntaxError",
     "evalue": "invalid syntax (2954074011.py, line 5)",
     "output_type": "error",
     "traceback": [
      "\u001b[1;36m  Input \u001b[1;32mIn [5]\u001b[1;36m\u001b[0m\n\u001b[1;33m    return a[i] && a[i+1]\u001b[0m\n\u001b[1;37m                 ^\u001b[0m\n\u001b[1;31mSyntaxError\u001b[0m\u001b[1;31m:\u001b[0m invalid syntax\n"
     ]
    }
   ],
   "source": [
    "arr=[2,5,4,7]\n",
    "n=7\n",
    "for i in range(0,n):\n",
    "    if a[i]+a[i+1]==n:\n",
    "        return a[i] && a[i+1]\n",
    "    else:\n",
    "        print(\"no such values found\")\n",
    "        "
   ]
  },
  {
   "cell_type": "code",
   "execution_count": null,
   "id": "5f9cf4d9",
   "metadata": {},
   "outputs": [],
   "source": [
    "Table - company \n",
    "id \n",
    "name \n",
    "\n",
    "\n",
    "Table - Profit\n",
    "id \n",
    "profit \n",
    "\n",
    "\n",
    "Id, company_name , profit   - company which have maximum profit.\n",
    " \n",
    "    \n",
    "    \n",
    "    \n",
    "select company.id , company.name ,profit from profit where max profit"
   ]
  }
 ],
 "metadata": {
  "kernelspec": {
   "display_name": "Python 3 (ipykernel)",
   "language": "python",
   "name": "python3"
  },
  "language_info": {
   "codemirror_mode": {
    "name": "ipython",
    "version": 3
   },
   "file_extension": ".py",
   "mimetype": "text/x-python",
   "name": "python",
   "nbconvert_exporter": "python",
   "pygments_lexer": "ipython3",
   "version": "3.9.12"
  }
 },
 "nbformat": 4,
 "nbformat_minor": 5
}
