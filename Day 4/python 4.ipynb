{
 "cells": [
  {
   "cell_type": "markdown",
   "id": "cee1c410",
   "metadata": {},
   "source": [
    "#more about list"
   ]
  },
  {
   "cell_type": "code",
   "execution_count": 23,
   "id": "95fa219b",
   "metadata": {},
   "outputs": [],
   "source": [
    "names= [\"vimal\",\"ayush\",\"ajay\",\"rahul\"]\n",
    "import numpy as np"
   ]
  },
  {
   "cell_type": "code",
   "execution_count": 2,
   "id": "05a73fe5",
   "metadata": {},
   "outputs": [],
   "source": [
    "cnames = names"
   ]
  },
  {
   "cell_type": "code",
   "execution_count": 3,
   "id": "2c1903f0",
   "metadata": {},
   "outputs": [
    {
     "data": {
      "text/plain": [
       "['vimal', 'ayush', 'ajay', 'rahul']"
      ]
     },
     "execution_count": 3,
     "metadata": {},
     "output_type": "execute_result"
    }
   ],
   "source": [
    "names"
   ]
  },
  {
   "cell_type": "code",
   "execution_count": 4,
   "id": "dc02bced",
   "metadata": {},
   "outputs": [
    {
     "data": {
      "text/plain": [
       "['vimal', 'ayush', 'ajay', 'rahul']"
      ]
     },
     "execution_count": 4,
     "metadata": {},
     "output_type": "execute_result"
    }
   ],
   "source": [
    "cnames"
   ]
  },
  {
   "cell_type": "code",
   "execution_count": 5,
   "id": "5d21827a",
   "metadata": {},
   "outputs": [],
   "source": [
    "cnames[1]= \"divyanshu\""
   ]
  },
  {
   "cell_type": "code",
   "execution_count": 6,
   "id": "adbb33f7",
   "metadata": {},
   "outputs": [
    {
     "data": {
      "text/plain": [
       "['vimal', 'divyanshu', 'ajay', 'rahul']"
      ]
     },
     "execution_count": 6,
     "metadata": {},
     "output_type": "execute_result"
    }
   ],
   "source": [
    "cnames #change in 2nd list but it will also affect he first list"
   ]
  },
  {
   "cell_type": "code",
   "execution_count": 7,
   "id": "d9fe92ea",
   "metadata": {},
   "outputs": [
    {
     "data": {
      "text/plain": [
       "['vimal', 'divyanshu', 'ajay', 'rahul']"
      ]
     },
     "execution_count": 7,
     "metadata": {},
     "output_type": "execute_result"
    }
   ],
   "source": [
    "names #isme bhi update ho gya"
   ]
  },
  {
   "cell_type": "code",
   "execution_count": 8,
   "id": "e8c120a3",
   "metadata": {},
   "outputs": [
    {
     "data": {
      "text/plain": [
       "2276580916288"
      ]
     },
     "execution_count": 8,
     "metadata": {},
     "output_type": "execute_result"
    }
   ],
   "source": [
    "id(names)"
   ]
  },
  {
   "cell_type": "code",
   "execution_count": 9,
   "id": "18e8787d",
   "metadata": {},
   "outputs": [
    {
     "data": {
      "text/plain": [
       "2276580916288"
      ]
     },
     "execution_count": 9,
     "metadata": {},
     "output_type": "execute_result"
    }
   ],
   "source": [
    "id(cnames)"
   ]
  },
  {
   "cell_type": "code",
   "execution_count": 10,
   "id": "df5ac068",
   "metadata": {},
   "outputs": [],
   "source": [
    "#look both variable has same id or location wheree it is stores in ram so it not making copy of data."
   ]
  },
  {
   "cell_type": "code",
   "execution_count": 13,
   "id": "c4cfc77c",
   "metadata": {},
   "outputs": [
    {
     "name": "stdout",
     "output_type": "stream",
     "text": [
      "[1, 2, 3, 5]\n"
     ]
    },
    {
     "data": {
      "text/plain": [
       "2276601289280"
      ]
     },
     "execution_count": 13,
     "metadata": {},
     "output_type": "execute_result"
    }
   ],
   "source": [
    "#Technique 1 of copying data\n",
    "a=[1,2,3,5]\n",
    "print(a)\n",
    "id(a)"
   ]
  },
  {
   "cell_type": "code",
   "execution_count": 14,
   "id": "aa16512a",
   "metadata": {},
   "outputs": [
    {
     "name": "stdout",
     "output_type": "stream",
     "text": [
      "[1, 2, 3, 5]\n"
     ]
    },
    {
     "data": {
      "text/plain": [
       "2276609604800"
      ]
     },
     "execution_count": 14,
     "metadata": {},
     "output_type": "execute_result"
    }
   ],
   "source": [
    "b= a[:]\n",
    "print(b)\n",
    "id(b)"
   ]
  },
  {
   "cell_type": "code",
   "execution_count": 18,
   "id": "e08c10a9",
   "metadata": {},
   "outputs": [
    {
     "name": "stdout",
     "output_type": "stream",
     "text": [
      "[1, 2, 3, 5]\n"
     ]
    },
    {
     "data": {
      "text/plain": [
       "2276621340096"
      ]
     },
     "execution_count": 18,
     "metadata": {},
     "output_type": "execute_result"
    }
   ],
   "source": [
    "#technique to copy by importing copy modeule\n",
    "#shallow copy \n",
    "import copy\n",
    "d = copy.copy(a)\n",
    "print(d)\n",
    "id(d)"
   ]
  },
  {
   "cell_type": "code",
   "execution_count": 27,
   "id": "ea0aadc7",
   "metadata": {},
   "outputs": [
    {
     "data": {
      "text/plain": [
       "[1, 'divyanshu', [911, 100]]"
      ]
     },
     "execution_count": 27,
     "metadata": {},
     "output_type": "execute_result"
    }
   ],
   "source": [
    "db= [1,\"divyanshu\",[911,100]]\n",
    "db"
   ]
  },
  {
   "cell_type": "code",
   "execution_count": 28,
   "id": "3fc305b5",
   "metadata": {},
   "outputs": [
    {
     "data": {
      "text/plain": [
       "3"
      ]
     },
     "execution_count": 28,
     "metadata": {},
     "output_type": "execute_result"
    }
   ],
   "source": [
    "len(db)"
   ]
  },
  {
   "cell_type": "code",
   "execution_count": 29,
   "id": "313565e9",
   "metadata": {},
   "outputs": [],
   "source": [
    "lwdb = copy.copy(db)"
   ]
  },
  {
   "cell_type": "code",
   "execution_count": 30,
   "id": "8f1cd323",
   "metadata": {},
   "outputs": [
    {
     "data": {
      "text/plain": [
       "2276627201280"
      ]
     },
     "execution_count": 30,
     "metadata": {},
     "output_type": "execute_result"
    }
   ],
   "source": [
    "id(db)"
   ]
  },
  {
   "cell_type": "code",
   "execution_count": 31,
   "id": "779b7531",
   "metadata": {},
   "outputs": [
    {
     "data": {
      "text/plain": [
       "2276626851584"
      ]
     },
     "execution_count": 31,
     "metadata": {},
     "output_type": "execute_result"
    }
   ],
   "source": [
    "id(lwdb)"
   ]
  },
  {
   "cell_type": "code",
   "execution_count": 33,
   "id": "95b6d544",
   "metadata": {},
   "outputs": [
    {
     "data": {
      "text/plain": [
       "[1, 'divyanshu', [999999, 100]]"
      ]
     },
     "execution_count": 33,
     "metadata": {},
     "output_type": "execute_result"
    }
   ],
   "source": [
    "lwdb[2][0]=999999\n",
    "lwdb"
   ]
  },
  {
   "cell_type": "code",
   "execution_count": 34,
   "id": "13a47a35",
   "metadata": {},
   "outputs": [
    {
     "data": {
      "text/plain": [
       "[1, 'divyanshu', [999999, 100]]"
      ]
     },
     "execution_count": 34,
     "metadata": {},
     "output_type": "execute_result"
    }
   ],
   "source": [
    "db"
   ]
  },
  {
   "cell_type": "code",
   "execution_count": 35,
   "id": "1445a152",
   "metadata": {},
   "outputs": [],
   "source": [
    "#shallow copy is not available in case of n dimensional list..(it will update changes in first list)\n",
    "#so use deep copy instead of normal copy"
   ]
  },
  {
   "cell_type": "code",
   "execution_count": 36,
   "id": "7d069130",
   "metadata": {},
   "outputs": [],
   "source": [
    "dc=copy.deepcopy(db)"
   ]
  },
  {
   "cell_type": "code",
   "execution_count": 37,
   "id": "9f939de0",
   "metadata": {},
   "outputs": [
    {
     "data": {
      "text/plain": [
       "[1, 'divyanshu', [3333, 100]]"
      ]
     },
     "execution_count": 37,
     "metadata": {},
     "output_type": "execute_result"
    }
   ],
   "source": [
    "dc[2][0]=3333\n",
    "dc"
   ]
  },
  {
   "cell_type": "code",
   "execution_count": 39,
   "id": "8403e988",
   "metadata": {},
   "outputs": [
    {
     "data": {
      "text/plain": [
       "[1, 'divyanshu', [999999, 100]]"
      ]
     },
     "execution_count": 39,
     "metadata": {},
     "output_type": "execute_result"
    }
   ],
   "source": [
    "db     #look now it is not changing in the first datbase"
   ]
  },
  {
   "cell_type": "markdown",
   "id": "95fa84ab",
   "metadata": {},
   "source": [
    "# Functions"
   ]
  },
  {
   "cell_type": "code",
   "execution_count": 41,
   "id": "71b32270",
   "metadata": {},
   "outputs": [],
   "source": [
    "#function is like a box which contain block of code which can be impleamnetd again and again by callinf the function"
   ]
  },
  {
   "cell_type": "code",
   "execution_count": 48,
   "id": "94d52423",
   "metadata": {},
   "outputs": [
    {
     "name": "stdout",
     "output_type": "stream",
     "text": [
      "alag hu mein isme\n"
     ]
    }
   ],
   "source": [
    "def lw () :\n",
    "    x=5\n",
    "    print(x)\n",
    "    y=7\n",
    "    print(y)\n",
    "    \n",
    "print(\"alag hu mein isme\") #thats why indentation is used ,just to break it from function"
   ]
  },
  {
   "cell_type": "code",
   "execution_count": 46,
   "id": "b0a9eec7",
   "metadata": {},
   "outputs": [
    {
     "name": "stdout",
     "output_type": "stream",
     "text": [
      "5\n",
      "7\n"
     ]
    }
   ],
   "source": [
    "lw()  #calling a function"
   ]
  },
  {
   "cell_type": "code",
   "execution_count": 50,
   "id": "f14b09ed",
   "metadata": {},
   "outputs": [
    {
     "name": "stdout",
     "output_type": "stream",
     "text": [
      "i am ayush joshi\n"
     ]
    }
   ],
   "source": [
    "def my():\n",
    "    print(\"my name  is divyanshu\")\n",
    "\n",
    "print(\"i am ayush joshi\")"
   ]
  },
  {
   "cell_type": "code",
   "execution_count": 51,
   "id": "ae7fb060",
   "metadata": {},
   "outputs": [
    {
     "name": "stdout",
     "output_type": "stream",
     "text": [
      "my name  is divyanshu\n"
     ]
    }
   ],
   "source": [
    "my()"
   ]
  },
  {
   "cell_type": "code",
   "execution_count": 52,
   "id": "20d3bcba",
   "metadata": {},
   "outputs": [
    {
     "data": {
      "text/plain": [
       "2276612187472"
      ]
     },
     "execution_count": 52,
     "metadata": {},
     "output_type": "execute_result"
    }
   ],
   "source": [
    "id(my)"
   ]
  },
  {
   "cell_type": "code",
   "execution_count": 57,
   "id": "aef00c47",
   "metadata": {},
   "outputs": [
    {
     "name": "stdout",
     "output_type": "stream",
     "text": [
      "my name  is divyanshu\n"
     ]
    }
   ],
   "source": [
    "mynew = my() "
   ]
  },
  {
   "cell_type": "code",
   "execution_count": 61,
   "id": "e6e41d6a",
   "metadata": {},
   "outputs": [],
   "source": [
    "mynew  # it will return noone value "
   ]
  },
  {
   "cell_type": "code",
   "execution_count": 60,
   "id": "df220bb7",
   "metadata": {},
   "outputs": [
    {
     "data": {
      "text/plain": [
       "140704381574360"
      ]
     },
     "execution_count": 60,
     "metadata": {},
     "output_type": "execute_result"
    }
   ],
   "source": [
    "id(mynew)"
   ]
  },
  {
   "cell_type": "code",
   "execution_count": 65,
   "id": "9c57a3b5",
   "metadata": {},
   "outputs": [],
   "source": [
    "latest = my  #make copy of function and store in variable"
   ]
  },
  {
   "cell_type": "code",
   "execution_count": 66,
   "id": "daf68aa7",
   "metadata": {},
   "outputs": [
    {
     "name": "stdout",
     "output_type": "stream",
     "text": [
      "my name  is divyanshu\n"
     ]
    }
   ],
   "source": [
    "latest()"
   ]
  },
  {
   "cell_type": "code",
   "execution_count": 67,
   "id": "4f4ca641",
   "metadata": {},
   "outputs": [
    {
     "data": {
      "text/plain": [
       "2276612187472"
      ]
     },
     "execution_count": 67,
     "metadata": {},
     "output_type": "execute_result"
    }
   ],
   "source": [
    "id(latest)"
   ]
  },
  {
   "cell_type": "markdown",
   "id": "cfe85863",
   "metadata": {},
   "source": [
    " #example 2"
   ]
  },
  {
   "cell_type": "code",
   "execution_count": 77,
   "id": "5963a275",
   "metadata": {},
   "outputs": [],
   "source": [
    "def name():\n",
    "    print(\"divyanshu tailor\")\n",
    "    return(\"ayush joshi\")"
   ]
  },
  {
   "cell_type": "code",
   "execution_count": 78,
   "id": "78ccf55f",
   "metadata": {},
   "outputs": [
    {
     "name": "stdout",
     "output_type": "stream",
     "text": [
      "divyanshu tailor\n"
     ]
    }
   ],
   "source": [
    "myname = name()"
   ]
  },
  {
   "cell_type": "code",
   "execution_count": 79,
   "id": "2f1794de",
   "metadata": {},
   "outputs": [
    {
     "data": {
      "text/plain": [
       "'ayush joshi'"
      ]
     },
     "execution_count": 79,
     "metadata": {},
     "output_type": "execute_result"
    }
   ],
   "source": [
    "myname  #not returning anything so use return instead of print"
   ]
  },
  {
   "cell_type": "code",
   "execution_count": 90,
   "id": "58dd4ae7",
   "metadata": {},
   "outputs": [],
   "source": [
    "#passing varibale in function\n",
    "\n",
    "def fcuk(x):\n",
    "    print(\" iam\",x)\n",
    "    "
   ]
  },
  {
   "cell_type": "code",
   "execution_count": 91,
   "id": "dcd99ee9",
   "metadata": {},
   "outputs": [
    {
     "name": "stdout",
     "output_type": "stream",
     "text": [
      " iam jai ho\n"
     ]
    }
   ],
   "source": [
    "fcuk(\"jai ho\")\n"
   ]
  },
  {
   "cell_type": "code",
   "execution_count": 98,
   "id": "4bfe0082",
   "metadata": {},
   "outputs": [],
   "source": [
    "def sum(,x=0,y=0,z=0):\n",
    "    p = x+y+z\n",
    "    return(\"the total sum is :\",p)"
   ]
  },
  {
   "cell_type": "code",
   "execution_count": 99,
   "id": "44d7d32c",
   "metadata": {},
   "outputs": [
    {
     "data": {
      "text/plain": [
       "('the total sum is :', 37)"
      ]
     },
     "execution_count": 99,
     "metadata": {},
     "output_type": "execute_result"
    }
   ],
   "source": [
    "sum(9,8,20)"
   ]
  },
  {
   "cell_type": "code",
   "execution_count": 100,
   "id": "23cfcb04",
   "metadata": {},
   "outputs": [
    {
     "data": {
      "text/plain": [
       "('the total sum is :', 0)"
      ]
     },
     "execution_count": 100,
     "metadata": {},
     "output_type": "execute_result"
    }
   ],
   "source": [
    "sum()"
   ]
  },
  {
   "cell_type": "markdown",
   "id": "aa50686f",
   "metadata": {},
   "source": [
    "For loop"
   ]
  },
  {
   "cell_type": "code",
   "execution_count": 101,
   "id": "ab9240bc",
   "metadata": {},
   "outputs": [],
   "source": [
    "mob =[111,222,333,444,555]\n"
   ]
  },
  {
   "cell_type": "code",
   "execution_count": 102,
   "id": "57575fb2",
   "metadata": {},
   "outputs": [
    {
     "name": "stdout",
     "output_type": "stream",
     "text": [
      "111\n",
      "222\n",
      "333\n",
      "444\n",
      "555\n"
     ]
    }
   ],
   "source": [
    "#iteration:\n",
    "\n",
    "for x in mob:\n",
    "    print(x)"
   ]
  },
  {
   "cell_type": "code",
   "execution_count": null,
   "id": "a183fceb",
   "metadata": {},
   "outputs": [],
   "source": [
    "#task\n",
    "#pthon library to send whatsapp messages\n",
    "#pthon library to send  email\n",
    "#pthon library to send  sms"
   ]
  }
 ],
 "metadata": {
  "kernelspec": {
   "display_name": "Python 3 (ipykernel)",
   "language": "python",
   "name": "python3"
  },
  "language_info": {
   "codemirror_mode": {
    "name": "ipython",
    "version": 3
   },
   "file_extension": ".py",
   "mimetype": "text/x-python",
   "name": "python",
   "nbconvert_exporter": "python",
   "pygments_lexer": "ipython3",
   "version": "3.9.12"
  }
 },
 "nbformat": 4,
 "nbformat_minor": 5
}
