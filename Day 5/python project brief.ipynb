{
 "cells": [
  {
   "cell_type": "code",
   "execution_count": null,
   "id": "cfeee6c9",
   "metadata": {},
   "outputs": [],
   "source": [
    "#we are going to make virtual assistant by using python to do various activities\n",
    "#like we can ask for date and time from computer by asking for it..\n",
    "# we cacn make it voice commanded by importing the pyttsx3 module.."
   ]
  },
  {
   "cell_type": "code",
   "execution_count": null,
   "id": "c472b5bb",
   "metadata": {},
   "outputs": [],
   "source": [
    "import os\n",
    "print(\"\\t\\t\\t\\t\\tWelcome to Linuxworld\") #\\n to make new lin and \\t to give tab space betweeen two character\n",
    "print(\"\\t\\t\\t\\t\\t______________________\")\n",
    "#if we want to color the color of font in cmd then we can use tput setaf 1,2,3,4,5,6,7,8 yeh vla windows m nhi hoga\n",
    "\n",
    "while True:\n",
    "    print(\"\"\"\\t\\t\\t\\t\\tPress 1: To see Date\n",
    "              \\t\\t\\t\\tPress 2: To Check Cal\n",
    "              \\t\\t\\t\\tPress 3: To setup account\n",
    "              \\t\\t\\t\\tPress 4: To create File\n",
    "              \\t\\t\\t\\tPress 5: To open chrome\n",
    "              \\t\\t\\t\\tPress 6: To exit\n",
    "    \"\"\"\n",
    "    )\n",
    "\n",
    "    choice= int(input(\"Enter Your Choice: \"))\n",
    "\n",
    "    if choice==1:\n",
    "        print(\"i want to print date\")\n",
    "    elif choice==2:\n",
    "        print(\"i want to print calendar\")\n",
    "    elif choice==3:\n",
    "        print(\"i want to Setup Account \")\n",
    "    elif choice==4:\n",
    "        print(\"i want to create file\")\n",
    "    elif choice==5:\n",
    "        print(\"i want to open chrome\")\n",
    "    elif choice==6:\n",
    "        exit()\n",
    "    else:\n",
    "        print(\"no support\")\n",
    "\n",
    "\n",
    "\n",
    "\n"
   ]
  },
  {
   "cell_type": "code",
   "execution_count": null,
   "id": "c37cdb00",
   "metadata": {},
   "outputs": [],
   "source": []
  },
  {
   "cell_type": "code",
   "execution_count": null,
   "id": "7574b9e5",
   "metadata": {},
   "outputs": [],
   "source": []
  }
 ],
 "metadata": {
  "kernelspec": {
   "display_name": "Python 3 (ipykernel)",
   "language": "python",
   "name": "python3"
  },
  "language_info": {
   "codemirror_mode": {
    "name": "ipython",
    "version": 3
   },
   "file_extension": ".py",
   "mimetype": "text/x-python",
   "name": "python",
   "nbconvert_exporter": "python",
   "pygments_lexer": "ipython3",
   "version": "3.9.12"
  }
 },
 "nbformat": 4,
 "nbformat_minor": 5
}
