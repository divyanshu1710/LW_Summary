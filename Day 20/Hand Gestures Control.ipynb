{
 "cells": [
  {
   "cell_type": "code",
   "execution_count": 1,
   "id": "8e5deed4",
   "metadata": {},
   "outputs": [],
   "source": [
    "#based on Computer Vision We can Contorol the Functioning of Our Sysytem Wheter it is in Cloud or not.\n",
    "#today we are going to control various activities through Hand Gesture Module.\n"
   ]
  },
  {
   "cell_type": "code",
   "execution_count": 3,
   "id": "372d055d",
   "metadata": {},
   "outputs": [
    {
     "name": "stderr",
     "output_type": "stream",
     "text": [
      "C:\\Users\\91800\\anaconda3\\lib\\site-packages\\scipy\\__init__.py:146: UserWarning: A NumPy version >=1.16.5 and <1.23.0 is required for this version of SciPy (detected version 1.25.0\n",
      "  warnings.warn(f\"A NumPy version >={np_minversion} and <{np_maxversion}\"\n"
     ]
    },
    {
     "name": "stdout",
     "output_type": "stream",
     "text": [
      "WARNING:tensorflow:From C:\\Users\\91800\\anaconda3\\lib\\site-packages\\tensorflow\\python\\ops\\distributions\\distribution.py:259: ReparameterizationType.__init__ (from tensorflow.python.ops.distributions.distribution) is deprecated and will be removed after 2019-01-01.\n",
      "Instructions for updating:\n",
      "The TensorFlow Distributions library has moved to TensorFlow Probability (https://github.com/tensorflow/probability). You should update all references to use `tfp.distributions` instead of `tf.distributions`.\n",
      "WARNING:tensorflow:From C:\\Users\\91800\\anaconda3\\lib\\site-packages\\tensorflow\\python\\ops\\distributions\\bernoulli.py:165: RegisterKL.__init__ (from tensorflow.python.ops.distributions.kullback_leibler) is deprecated and will be removed after 2019-01-01.\n",
      "Instructions for updating:\n",
      "The TensorFlow Distributions library has moved to TensorFlow Probability (https://github.com/tensorflow/probability). You should update all references to use `tfp.distributions` instead of `tf.distributions`.\n"
     ]
    }
   ],
   "source": [
    "from cvzone.HandTrackingModule import HandDetector  #load hand detector module behind the scene."
   ]
  },
  {
   "cell_type": "code",
   "execution_count": 4,
   "id": "4ee0d154",
   "metadata": {},
   "outputs": [],
   "source": [
    "hmodel= HandDetector(maxHands=1)"
   ]
  },
  {
   "cell_type": "code",
   "execution_count": 5,
   "id": "7d507bbe",
   "metadata": {},
   "outputs": [],
   "source": [
    "import cv2"
   ]
  },
  {
   "cell_type": "code",
   "execution_count": 6,
   "id": "9fec2c98",
   "metadata": {},
   "outputs": [],
   "source": [
    "cap=cv2.VideoCapture(0)"
   ]
  },
  {
   "cell_type": "code",
   "execution_count": 7,
   "id": "b2c08a55",
   "metadata": {},
   "outputs": [],
   "source": [
    "status, photo = cap.read()"
   ]
  },
  {
   "cell_type": "code",
   "execution_count": 8,
   "id": "fbce1cc6",
   "metadata": {},
   "outputs": [
    {
     "data": {
      "text/plain": [
       "True"
      ]
     },
     "execution_count": 8,
     "metadata": {},
     "output_type": "execute_result"
    }
   ],
   "source": [
    "status"
   ]
  },
  {
   "cell_type": "code",
   "execution_count": 9,
   "id": "19f6162c",
   "metadata": {},
   "outputs": [],
   "source": [
    "cv2.imshow(\"myphoto\",photo)\n",
    "cv2.waitKey()\n",
    "cv2.destroyAllWindows()"
   ]
  },
  {
   "cell_type": "code",
   "execution_count": 10,
   "id": "a42a3ccc",
   "metadata": {},
   "outputs": [],
   "source": [
    "hand, image= hmodel.findHands(photo) #total 21 lNdmark /Coordinates can be identified in hand"
   ]
  },
  {
   "cell_type": "code",
   "execution_count": 21,
   "id": "598626fd",
   "metadata": {},
   "outputs": [],
   "source": [
    "cv2.imshow(\"myphoto\",image)\n",
    "cv2.waitKey()\n",
    "cv2.destroyAllWindows()"
   ]
  },
  {
   "cell_type": "code",
   "execution_count": 18,
   "id": "2dec3936",
   "metadata": {},
   "outputs": [
    {
     "data": {
      "text/plain": [
       "[{'lmList': [[194, 466, 0],\n",
       "   [241, 453, -22],\n",
       "   [280, 418, -31],\n",
       "   [306, 385, -38],\n",
       "   [333, 364, -46],\n",
       "   [247, 343, -18],\n",
       "   [255, 294, -32],\n",
       "   [260, 263, -45],\n",
       "   [264, 237, -54],\n",
       "   [214, 336, -18],\n",
       "   [222, 281, -31],\n",
       "   [229, 249, -43],\n",
       "   [235, 223, -52],\n",
       "   [183, 343, -22],\n",
       "   [185, 291, -36],\n",
       "   [188, 260, -45],\n",
       "   [192, 235, -51],\n",
       "   [153, 360, -27],\n",
       "   [149, 319, -41],\n",
       "   [149, 293, -48],\n",
       "   [152, 268, -51]],\n",
       "  'bbox': (149, 223, 184, 243),\n",
       "  'center': (241, 344),\n",
       "  'type': 'Right'}]"
      ]
     },
     "execution_count": 18,
     "metadata": {},
     "output_type": "execute_result"
    }
   ],
   "source": [
    "hand"
   ]
  },
  {
   "cell_type": "code",
   "execution_count": 24,
   "id": "a91e4e7a",
   "metadata": {},
   "outputs": [
    {
     "name": "stdout",
     "output_type": "stream",
     "text": [
      "hand Detected Right\n"
     ]
    }
   ],
   "source": [
    "if hand:\n",
    "    print(\"hand Detected\",hand[0]['type'])\n",
    "    cv2.imshow(\"myphoto\",image)\n",
    "    cv2.waitKey()\n",
    "    cv2.destroyAllWindows()\n",
    "else:\n",
    "    print(\"hand nhi he bhai\")\n",
    "    "
   ]
  },
  {
   "cell_type": "code",
   "execution_count": 23,
   "id": "d5207cdf",
   "metadata": {},
   "outputs": [
    {
     "data": {
      "text/plain": [
       "'Right'"
      ]
     },
     "execution_count": 23,
     "metadata": {},
     "output_type": "execute_result"
    }
   ],
   "source": [
    "hand[0]['type']"
   ]
  },
  {
   "cell_type": "code",
   "execution_count": 25,
   "id": "4ce88237",
   "metadata": {},
   "outputs": [
    {
     "data": {
      "text/plain": [
       "[[194, 466, 0],\n",
       " [241, 453, -22],\n",
       " [280, 418, -31],\n",
       " [306, 385, -38],\n",
       " [333, 364, -46],\n",
       " [247, 343, -18],\n",
       " [255, 294, -32],\n",
       " [260, 263, -45],\n",
       " [264, 237, -54],\n",
       " [214, 336, -18],\n",
       " [222, 281, -31],\n",
       " [229, 249, -43],\n",
       " [235, 223, -52],\n",
       " [183, 343, -22],\n",
       " [185, 291, -36],\n",
       " [188, 260, -45],\n",
       " [192, 235, -51],\n",
       " [153, 360, -27],\n",
       " [149, 319, -41],\n",
       " [149, 293, -48],\n",
       " [152, 268, -51]]"
      ]
     },
     "execution_count": 25,
     "metadata": {},
     "output_type": "execute_result"
    }
   ],
   "source": [
    "#poori kahani jo he hmaari vo landmarks pr based hoti he\n",
    "#in se apn no of fingers bhi count kr skte he (Finger up and down concept)\n",
    "hand[0][\"lmList\"]"
   ]
  },
  {
   "cell_type": "code",
   "execution_count": 28,
   "id": "35057b19",
   "metadata": {},
   "outputs": [],
   "source": [
    "hand2= hmodel.findHands(photo, draw = False)"
   ]
  },
  {
   "cell_type": "code",
   "execution_count": 29,
   "id": "146e332d",
   "metadata": {},
   "outputs": [
    {
     "data": {
      "text/plain": [
       "[{'lmList': [[192, 472, 0],\n",
       "   [239, 449, -20],\n",
       "   [278, 416, -30],\n",
       "   [306, 388, -41],\n",
       "   [334, 367, -52],\n",
       "   [244, 346, -8],\n",
       "   [256, 297, -23],\n",
       "   [262, 266, -38],\n",
       "   [268, 241, -48],\n",
       "   [215, 341, -10],\n",
       "   [221, 285, -23],\n",
       "   [225, 251, -37],\n",
       "   [229, 224, -48],\n",
       "   [185, 346, -16],\n",
       "   [186, 294, -28],\n",
       "   [188, 262, -39],\n",
       "   [193, 234, -46],\n",
       "   [154, 360, -23],\n",
       "   [147, 318, -35],\n",
       "   [145, 290, -40],\n",
       "   [145, 264, -43]],\n",
       "  'bbox': (145, 224, 189, 248),\n",
       "  'center': (239, 348),\n",
       "  'type': 'Right'}]"
      ]
     },
     "execution_count": 29,
     "metadata": {},
     "output_type": "execute_result"
    }
   ],
   "source": [
    "hand2"
   ]
  },
  {
   "cell_type": "code",
   "execution_count": 37,
   "id": "e7d37d09",
   "metadata": {},
   "outputs": [
    {
     "name": "stdout",
     "output_type": "stream",
     "text": [
      "hand Detected Right\n",
      "[1, 1, 1, 1, 1]\n"
     ]
    }
   ],
   "source": [
    "if hand2:\n",
    "    print(\"hand Detected\",hand2[0]['type'])\n",
    "    print(hmodel.fingersUp(hand2[0]))"
   ]
  },
  {
   "cell_type": "code",
   "execution_count": 11,
   "id": "4f8ff339",
   "metadata": {},
   "outputs": [],
   "source": [
    "status,photo = cap.read()\n",
    "hand= hmodel.findHands(photo, draw = False)\n",
    "if hand:\n",
    "    print(hmodel.fingersUp(hand[0]))"
   ]
  },
  {
   "cell_type": "code",
   "execution_count": 40,
   "id": "87bf7d98",
   "metadata": {},
   "outputs": [
    {
     "data": {
      "text/plain": [
       "[]"
      ]
     },
     "execution_count": 40,
     "metadata": {},
     "output_type": "execute_result"
    }
   ],
   "source": []
  },
  {
   "cell_type": "code",
   "execution_count": null,
   "id": "cdd2d514",
   "metadata": {},
   "outputs": [],
   "source": []
  }
 ],
 "metadata": {
  "kernelspec": {
   "display_name": "Python 3 (ipykernel)",
   "language": "python",
   "name": "python3"
  },
  "language_info": {
   "codemirror_mode": {
    "name": "ipython",
    "version": 3
   },
   "file_extension": ".py",
   "mimetype": "text/x-python",
   "name": "python",
   "nbconvert_exporter": "python",
   "pygments_lexer": "ipython3",
   "version": "3.9.12"
  }
 },
 "nbformat": 4,
 "nbformat_minor": 5
}
