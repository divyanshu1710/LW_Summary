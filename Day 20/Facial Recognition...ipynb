{
 "cells": [
  {
   "cell_type": "code",
   "execution_count": null,
   "id": "2f9f3c89",
   "metadata": {},
   "outputs": [],
   "source": [
    "#today we are going to make a program which can recognise our face.\n",
    "#we can solve lot of use cases.\n",
    "#like : online candidate checker\n",
    "#model algo is \"LBPH\" : local binary pattern histogram\n",
    "# 3steps:  collect the data. and classify data and apply LBPH\n",
    "#pip install opencv-contrib-python\n"
   ]
  }
 ],
 "metadata": {
  "kernelspec": {
   "display_name": "Python 3 (ipykernel)",
   "language": "python",
   "name": "python3"
  },
  "language_info": {
   "codemirror_mode": {
    "name": "ipython",
    "version": 3
   },
   "file_extension": ".py",
   "mimetype": "text/x-python",
   "name": "python",
   "nbconvert_exporter": "python",
   "pygments_lexer": "ipython3",
   "version": "3.9.12"
  }
 },
 "nbformat": 4,
 "nbformat_minor": 5
}
