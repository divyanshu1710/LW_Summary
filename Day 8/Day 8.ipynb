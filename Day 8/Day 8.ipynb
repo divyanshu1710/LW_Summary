{
 "cells": [
  {
   "cell_type": "code",
   "execution_count": 1,
   "id": "876c8cb9",
   "metadata": {},
   "outputs": [],
   "source": [
    "fo =open(\"lw1-Copy1.txt\", mode=\"r\")"
   ]
  },
  {
   "cell_type": "code",
   "execution_count": 26,
   "id": "797b979e",
   "metadata": {},
   "outputs": [
    {
     "data": {
      "text/plain": [
       "0"
      ]
     },
     "execution_count": 26,
     "metadata": {},
     "output_type": "execute_result"
    }
   ],
   "source": [
    "fo.tell()"
   ]
  },
  {
   "cell_type": "code",
   "execution_count": 27,
   "id": "a00bee45",
   "metadata": {},
   "outputs": [],
   "source": [
    "fr =fo.read()"
   ]
  },
  {
   "cell_type": "code",
   "execution_count": 28,
   "id": "5f55cef7",
   "metadata": {},
   "outputs": [
    {
     "name": "stdout",
     "output_type": "stream",
     "text": [
      "hi this is first line\n",
      "this is second line \n",
      "third line forth line \n",
      "jai mata di\n",
      "bye\n"
     ]
    }
   ],
   "source": [
    "print(fr)"
   ]
  },
  {
   "cell_type": "code",
   "execution_count": 29,
   "id": "25d93c7b",
   "metadata": {},
   "outputs": [
    {
     "data": {
      "text/plain": [
       "81"
      ]
     },
     "execution_count": 29,
     "metadata": {},
     "output_type": "execute_result"
    }
   ],
   "source": [
    "fo.tell()"
   ]
  },
  {
   "cell_type": "code",
   "execution_count": 30,
   "id": "b4b9c400",
   "metadata": {},
   "outputs": [
    {
     "data": {
      "text/plain": [
       "30"
      ]
     },
     "execution_count": 30,
     "metadata": {},
     "output_type": "execute_result"
    }
   ],
   "source": [
    "fo.seek(30,0)"
   ]
  },
  {
   "cell_type": "code",
   "execution_count": 31,
   "id": "44cd6c0f",
   "metadata": {},
   "outputs": [
    {
     "data": {
      "text/plain": [
       "30"
      ]
     },
     "execution_count": 31,
     "metadata": {},
     "output_type": "execute_result"
    }
   ],
   "source": [
    "fo.tell()"
   ]
  },
  {
   "cell_type": "code",
   "execution_count": 32,
   "id": "71e53acb",
   "metadata": {},
   "outputs": [],
   "source": [
    "fo.close()"
   ]
  },
  {
   "cell_type": "code",
   "execution_count": 8,
   "id": "46342dc0",
   "metadata": {},
   "outputs": [],
   "source": [
    "fo =open(\"lw1-Copy1.txt\", mode=\"r\")"
   ]
  },
  {
   "cell_type": "code",
   "execution_count": 34,
   "id": "8ee06fc9",
   "metadata": {},
   "outputs": [
    {
     "name": "stdout",
     "output_type": "stream",
     "text": [
      "hi this is first line\n",
      "\n",
      "this is second line \n",
      "\n",
      "third line forth line \n",
      "\n",
      "jai mata di\n",
      "\n",
      "bye\n"
     ]
    }
   ],
   "source": [
    "for x in fo:\n",
    "    print(x)"
   ]
  },
  {
   "cell_type": "code",
   "execution_count": 2,
   "id": "046c71be",
   "metadata": {},
   "outputs": [
    {
     "name": "stdout",
     "output_type": "stream",
     "text": [
      "this is second line \n",
      "\n"
     ]
    }
   ],
   "source": [
    "for x in fo:\n",
    "    if \"second \" in x:\n",
    "        print(x)\n",
    "    "
   ]
  },
  {
   "cell_type": "code",
   "execution_count": 4,
   "id": "979e78f7",
   "metadata": {},
   "outputs": [
    {
     "data": {
      "text/plain": [
       "'my name is divyanshu Tailor'"
      ]
     },
     "execution_count": 4,
     "metadata": {},
     "output_type": "execute_result"
    }
   ],
   "source": [
    "s = \"my name is divyanshu Tailor\"\n",
    "s"
   ]
  },
  {
   "cell_type": "code",
   "execution_count": 5,
   "id": "c8a48b68",
   "metadata": {},
   "outputs": [
    {
     "data": {
      "text/plain": [
       "['my', 'name', 'is', 'divyanshu', 'Tailor']"
      ]
     },
     "execution_count": 5,
     "metadata": {},
     "output_type": "execute_result"
    }
   ],
   "source": [
    "s.split()"
   ]
  },
  {
   "cell_type": "code",
   "execution_count": 6,
   "id": "a4d40aee",
   "metadata": {},
   "outputs": [
    {
     "data": {
      "text/plain": [
       "'divyanshu'"
      ]
     },
     "execution_count": 6,
     "metadata": {},
     "output_type": "execute_result"
    }
   ],
   "source": [
    "s.split()[3]"
   ]
  },
  {
   "cell_type": "code",
   "execution_count": 9,
   "id": "d98b59e6",
   "metadata": {},
   "outputs": [
    {
     "name": "stdout",
     "output_type": "stream",
     "text": [
      "issecondforthdi"
     ]
    },
    {
     "ename": "IndexError",
     "evalue": "list index out of range",
     "output_type": "error",
     "traceback": [
      "\u001b[1;31m---------------------------------------------------------------------------\u001b[0m",
      "\u001b[1;31mIndexError\u001b[0m                                Traceback (most recent call last)",
      "Input \u001b[1;32mIn [9]\u001b[0m, in \u001b[0;36m<cell line: 1>\u001b[1;34m()\u001b[0m\n\u001b[0;32m      1\u001b[0m \u001b[38;5;28;01mfor\u001b[39;00m line \u001b[38;5;129;01min\u001b[39;00m fo:\n\u001b[1;32m----> 2\u001b[0m     \u001b[38;5;28mprint\u001b[39m(\u001b[43mline\u001b[49m\u001b[38;5;241;43m.\u001b[39;49m\u001b[43msplit\u001b[49m\u001b[43m(\u001b[49m\u001b[43m)\u001b[49m\u001b[43m[\u001b[49m\u001b[38;5;241;43m2\u001b[39;49m\u001b[43m]\u001b[49m, end\u001b[38;5;241m=\u001b[39m\u001b[38;5;124m\"\u001b[39m\u001b[38;5;124m\"\u001b[39m)\n",
      "\u001b[1;31mIndexError\u001b[0m: list index out of range"
     ]
    }
   ],
   "source": [
    "for line in fo:\n",
    "    print(line.split()[2], end=\"\")"
   ]
  },
  {
   "cell_type": "code",
   "execution_count": 14,
   "id": "dcf7e449",
   "metadata": {},
   "outputs": [],
   "source": [
    "openk= open(\"untitled.txt\", mode=\"r\")\n"
   ]
  },
  {
   "cell_type": "code",
   "execution_count": 15,
   "id": "f1154e0b",
   "metadata": {},
   "outputs": [
    {
     "name": "stdout",
     "output_type": "stream",
     "text": [
      "<_io.TextIOWrapper name='untitled.txt' mode='r' encoding='cp1252'>\n"
     ]
    }
   ],
   "source": [
    "print(openk)"
   ]
  },
  {
   "cell_type": "code",
   "execution_count": 17,
   "id": "52631bdc",
   "metadata": {},
   "outputs": [
    {
     "name": "stdout",
     "output_type": "stream",
     "text": [
      "8000364886/n90006785940/n"
     ]
    }
   ],
   "source": [
    "for line in openk:\n",
    "    print(line.split()[2],end = \"/n\")"
   ]
  },
  {
   "cell_type": "code",
   "execution_count": 18,
   "id": "9707cdcd",
   "metadata": {},
   "outputs": [],
   "source": [
    "# new file bnaa deta he\n",
    "fn= open(\"mynew.txt\", mode=\"w\")"
   ]
  },
  {
   "cell_type": "code",
   "execution_count": 19,
   "id": "a0d64cf4",
   "metadata": {},
   "outputs": [
    {
     "data": {
      "text/plain": [
       "44"
      ]
     },
     "execution_count": 19,
     "metadata": {},
     "output_type": "execute_result"
    }
   ],
   "source": [
    "fn.write(\"jai mata di\\njai shree ram\\nradhe radhr radhe\\n\")"
   ]
  },
  {
   "cell_type": "code",
   "execution_count": 20,
   "id": "4c039d4f",
   "metadata": {},
   "outputs": [],
   "source": [
    "fn.close()"
   ]
  },
  {
   "cell_type": "code",
   "execution_count": 21,
   "id": "4c00d7a3",
   "metadata": {},
   "outputs": [],
   "source": [
    "fa= open(\"mynew.txt\", mode=\"a\")"
   ]
  },
  {
   "cell_type": "code",
   "execution_count": 22,
   "id": "d4babfc1",
   "metadata": {},
   "outputs": [
    {
     "data": {
      "text/plain": [
       "7"
      ]
     },
     "execution_count": 22,
     "metadata": {},
     "output_type": "execute_result"
    }
   ],
   "source": [
    "fa.write(\"bye bye\")"
   ]
  },
  {
   "cell_type": "code",
   "execution_count": 23,
   "id": "60683e9f",
   "metadata": {},
   "outputs": [],
   "source": [
    "fa.close()"
   ]
  },
  {
   "cell_type": "code",
   "execution_count": 24,
   "id": "b17cea4e",
   "metadata": {},
   "outputs": [],
   "source": [
    "# read or write sath me krna ho to mode mein \"r+\" us ekrna pdega\n",
    "# yeh saare operations hm txt file pr kr skte he oonly\n",
    "#binary operations or file ke liye hmko kuch aur krna pdega.."
   ]
  },
  {
   "cell_type": "code",
   "execution_count": null,
   "id": "c00ca185",
   "metadata": {},
   "outputs": [],
   "source": []
  }
 ],
 "metadata": {
  "kernelspec": {
   "display_name": "Python 3 (ipykernel)",
   "language": "python",
   "name": "python3"
  },
  "language_info": {
   "codemirror_mode": {
    "name": "ipython",
    "version": 3
   },
   "file_extension": ".py",
   "mimetype": "text/x-python",
   "name": "python",
   "nbconvert_exporter": "python",
   "pygments_lexer": "ipython3",
   "version": "3.9.12"
  }
 },
 "nbformat": 4,
 "nbformat_minor": 5
}
