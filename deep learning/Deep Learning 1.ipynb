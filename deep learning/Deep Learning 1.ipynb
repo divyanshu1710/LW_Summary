{
 "cells": [
  {
   "cell_type": "code",
   "execution_count": 3,
   "id": "37f788d5",
   "metadata": {},
   "outputs": [],
   "source": [
    "#as human think in real life, we are trying to make machine learn at that level like neural network of our brain.\n",
    "#machine learning is traditional way of learning\n",
    "#both learning has same goal but different approach.\n",
    "#we try to imitate functioning of brain.\n",
    "#brain smallest cell is known as neuron,all basic information about something is carried out by these neurons throught body.\n",
    "#Technocrats believed that if we want to make machine smart , fristly we have to study human brain deeply.\n",
    "#challenges in machine learning Overfitting and underfitting\n",
    "#after proving a certain amount of data to model , it becomes stable or reduce accuracy.\n",
    "#feature selction will be difficult through machine learning in case of big data.\n",
    "#we need automation of feature selection and seggreagtion so we need Deep learning .\n",
    "#here we use one of the powerful library: tensorflow and keras.\n"
   ]
  },
  {
   "cell_type": "markdown",
   "id": "832ca6f1",
   "metadata": {},
   "source": [
    "#Artificial Neural Network (ANN):"
   ]
  },
  {
   "cell_type": "code",
   "execution_count": null,
   "id": "f4addd26",
   "metadata": {},
   "outputs": [],
   "source": [
    " "
   ]
  }
 ],
 "metadata": {
  "kernelspec": {
   "display_name": "Python 3 (ipykernel)",
   "language": "python",
   "name": "python3"
  },
  "language_info": {
   "codemirror_mode": {
    "name": "ipython",
    "version": 3
   },
   "file_extension": ".py",
   "mimetype": "text/x-python",
   "name": "python",
   "nbconvert_exporter": "python",
   "pygments_lexer": "ipython3",
   "version": "3.9.12"
  }
 },
 "nbformat": 4,
 "nbformat_minor": 5
}
