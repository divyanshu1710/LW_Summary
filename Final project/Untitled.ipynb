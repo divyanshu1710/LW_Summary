{
 "cells": [
  {
   "cell_type": "code",
   "execution_count": 1,
   "id": "a94ce8d1",
   "metadata": {},
   "outputs": [
    {
     "ename": "ModuleNotFoundError",
     "evalue": "No module named 'serial'",
     "output_type": "error",
     "traceback": [
      "\u001b[1;31m---------------------------------------------------------------------------\u001b[0m",
      "\u001b[1;31mModuleNotFoundError\u001b[0m                       Traceback (most recent call last)",
      "Input \u001b[1;32mIn [1]\u001b[0m, in \u001b[0;36m<cell line: 1>\u001b[1;34m()\u001b[0m\n\u001b[1;32m----> 1\u001b[0m \u001b[38;5;28;01mimport\u001b[39;00m \u001b[38;5;21;01mserial\u001b[39;00m\n\u001b[0;32m      2\u001b[0m \u001b[38;5;28;01mimport\u001b[39;00m \u001b[38;5;21;01mtime\u001b[39;00m\n\u001b[0;32m      3\u001b[0m \u001b[38;5;28;01mimport\u001b[39;00m \u001b[38;5;21;01mnumpy\u001b[39;00m \u001b[38;5;28;01mas\u001b[39;00m \u001b[38;5;21;01mnp\u001b[39;00m\n",
      "\u001b[1;31mModuleNotFoundError\u001b[0m: No module named 'serial'"
     ]
    }
   ],
   "source": [
    "import serial\n",
    "import time\n",
    "import numpy as np\n",
    "from sklearn.linear_model import LinearRegression\n",
    "\n",
    "# Configure the serial port to communicate with the Arduino\n",
    "ser = serial.Serial('COM3', 9600)  # Change 'COM3' to the correct port for your setup\n",
    "\n",
    "# Initialize the machine learning model (Linear Regression for demonstration)\n",
    "model = LinearRegression()\n",
    "\n",
    "# Data storage for training the machine learning model\n",
    "X_train = []\n",
    "y_train = []\n",
    "\n",
    "# Function to receive data from Arduino\n",
    "def receive_data():\n",
    "    while True:\n",
    "        data = ser.readline().decode().strip()\n",
    "        if data:\n",
    "            return data.split(',')\n",
    "\n",
    "# Main loop to receive and process data\n",
    "while True:\n",
    "    data = receive_data()\n",
    "    if len(data) == 3:  # Assuming GPS data is in the format: latitude,longitude,altitude\n",
    "        latitude, longitude, sound_level = map(float, data)\n",
    "        \n",
    "        # Add the data to the training set\n",
    "        X_train.append([latitude, longitude])\n",
    "        y_train.append(sound_level)\n",
    "        \n",
    "        # Train the machine learning model on the collected data\n",
    "        model.fit(X_train, y_train)\n",
    "        \n",
    "        # Perform inference using the trained model (for demonstration)\n",
    "        sound_prediction = model.predict([[latitude, longitude]])\n",
    "        print(f\"Latitude: {latitude}, Longitude: {longitude}, Sound Level: {sound_level}, Sound Prediction: {sound_prediction[0]}\")\n",
    "\n",
    "# Close the serial port when finished\n",
    "ser.close()\n"
   ]
  },
  {
   "cell_type": "code",
   "execution_count": null,
   "id": "57487e3b",
   "metadata": {},
   "outputs": [],
   "source": []
  }
 ],
 "metadata": {
  "kernelspec": {
   "display_name": "Python 3 (ipykernel)",
   "language": "python",
   "name": "python3"
  },
  "language_info": {
   "codemirror_mode": {
    "name": "ipython",
    "version": 3
   },
   "file_extension": ".py",
   "mimetype": "text/x-python",
   "name": "python",
   "nbconvert_exporter": "python",
   "pygments_lexer": "ipython3",
   "version": "3.9.12"
  }
 },
 "nbformat": 4,
 "nbformat_minor": 5
}
