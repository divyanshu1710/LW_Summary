{
 "cells": [
  {
   "cell_type": "code",
   "execution_count": 3,
   "id": "db5f5d51",
   "metadata": {},
   "outputs": [],
   "source": [
    "#it will take data from common form\n",
    "class jobform:\n",
    "    name = None\n",
    "    mob= None\n",
    "    Exp= None"
   ]
  },
  {
   "cell_type": "code",
   "execution_count": 4,
   "id": "73d50229",
   "metadata": {},
   "outputs": [],
   "source": [
    "#it will also take data from parent class\n",
    "class studentform:\n",
    "    name= None\n",
    "    mob= None\n",
    "    query = None"
   ]
  },
  {
   "cell_type": "code",
   "execution_count": 36,
   "id": "c1383bac",
   "metadata": {},
   "outputs": [],
   "source": [
    "#baar baar maangne pdte he naam isiliye common form ko parent clasas bna denge aur job form and student form child class bnke data le lenge\n",
    "class commonform:\n",
    "    name = None\n",
    "    mob= None\n",
    "    \n",
    "    def my(self):\n",
    "        print(\"iam parent\")\n",
    "       \n",
    "       "
   ]
  },
  {
   "cell_type": "code",
   "execution_count": 37,
   "id": "f7a60c63",
   "metadata": {},
   "outputs": [],
   "source": [
    "#like this in this jobform is getting data from common form:\n",
    "class jobform(commonform):\n",
    "    exp =None"
   ]
  },
  {
   "cell_type": "code",
   "execution_count": 38,
   "id": "12d08632",
   "metadata": {},
   "outputs": [],
   "source": [
    "class studentform(commonform):\n",
    "    query = None"
   ]
  },
  {
   "cell_type": "code",
   "execution_count": 39,
   "id": "4057b9e3",
   "metadata": {},
   "outputs": [],
   "source": [
    "tom= studentform()"
   ]
  },
  {
   "cell_type": "code",
   "execution_count": 40,
   "id": "ad896566",
   "metadata": {},
   "outputs": [
    {
     "name": "stdout",
     "output_type": "stream",
     "text": [
      "['__class__', '__delattr__', '__dict__', '__dir__', '__doc__', '__eq__', '__format__', '__ge__', '__getattribute__', '__gt__', '__hash__', '__init__', '__init_subclass__', '__le__', '__lt__', '__module__', '__ne__', '__new__', '__reduce__', '__reduce_ex__', '__repr__', '__setattr__', '__sizeof__', '__str__', '__subclasshook__', '__weakref__', 'mob', 'my', 'name', 'query']\n"
     ]
    }
   ],
   "source": [
    "#saara data le liya common form ka\n",
    "print(dir(tom))"
   ]
  },
  {
   "cell_type": "code",
   "execution_count": 41,
   "id": "0d3fdc0e",
   "metadata": {},
   "outputs": [],
   "source": [
    "tom.query =\"course krna he raja \""
   ]
  },
  {
   "cell_type": "code",
   "execution_count": 42,
   "id": "b732e02e",
   "metadata": {},
   "outputs": [
    {
     "data": {
      "text/plain": [
       "{'query': 'course krna he raja '}"
      ]
     },
     "execution_count": 42,
     "metadata": {},
     "output_type": "execute_result"
    }
   ],
   "source": [
    "tom.__dict__"
   ]
  },
  {
   "cell_type": "code",
   "execution_count": 43,
   "id": "879cf533",
   "metadata": {},
   "outputs": [],
   "source": [
    "tom.mob= 1234"
   ]
  },
  {
   "cell_type": "code",
   "execution_count": 44,
   "id": "11e6c058",
   "metadata": {},
   "outputs": [
    {
     "data": {
      "text/plain": [
       "{'query': 'course krna he raja ', 'mob': 1234}"
      ]
     },
     "execution_count": 44,
     "metadata": {},
     "output_type": "execute_result"
    }
   ],
   "source": [
    "tom.__dict__"
   ]
  },
  {
   "cell_type": "code",
   "execution_count": 46,
   "id": "c3fb8199",
   "metadata": {},
   "outputs": [],
   "source": [
    "divyanshu = jobform()"
   ]
  },
  {
   "cell_type": "code",
   "execution_count": 47,
   "id": "f4255e91",
   "metadata": {},
   "outputs": [],
   "source": [
    "divyanshu.exp =5"
   ]
  },
  {
   "cell_type": "code",
   "execution_count": 49,
   "id": "94157829",
   "metadata": {},
   "outputs": [
    {
     "data": {
      "text/plain": [
       "{'exp': 5}"
      ]
     },
     "execution_count": 49,
     "metadata": {},
     "output_type": "execute_result"
    }
   ],
   "source": [
    "divyanshu.__dict__"
   ]
  },
  {
   "cell_type": "code",
   "execution_count": null,
   "id": "42f26298",
   "metadata": {},
   "outputs": [],
   "source": []
  },
  {
   "cell_type": "code",
   "execution_count": null,
   "id": "a47f9c10",
   "metadata": {},
   "outputs": [],
   "source": []
  }
 ],
 "metadata": {
  "kernelspec": {
   "display_name": "Python 3 (ipykernel)",
   "language": "python",
   "name": "python3"
  },
  "language_info": {
   "codemirror_mode": {
    "name": "ipython",
    "version": 3
   },
   "file_extension": ".py",
   "mimetype": "text/x-python",
   "name": "python",
   "nbconvert_exporter": "python",
   "pygments_lexer": "ipython3",
   "version": "3.10.4"
  }
 },
 "nbformat": 4,
 "nbformat_minor": 5
}
